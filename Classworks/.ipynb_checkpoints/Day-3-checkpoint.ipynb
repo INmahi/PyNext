{
 "cells": [
  {
   "cell_type": "markdown",
   "id": "8c4cf004-d0c3-4fc9-9ded-e7eed6f721b9",
   "metadata": {},
   "source": [
    "## Dictionary"
   ]
  },
  {
   "cell_type": "code",
   "execution_count": 10,
   "id": "e3d90c3a-c907-4794-ac38-4d5f2e802a4b",
   "metadata": {},
   "outputs": [],
   "source": [
    "def funct2(x):\n",
    "    return x*x\n",
    "dict1 = {\n",
    "    \"name\":\"mahi\",\n",
    "    \"func_key\": lambda x: x*x\n",
    "}\n"
   ]
  },
  {
   "cell_type": "code",
   "execution_count": 3,
   "id": "f7e19b22-c027-4fd8-9327-ec8715f919a5",
   "metadata": {},
   "outputs": [
    {
     "name": "stdout",
     "output_type": "stream",
     "text": [
      "{'name': 'mahi'}\n"
     ]
    }
   ],
   "source": [
    "print(dict1)"
   ]
  },
  {
   "cell_type": "code",
   "execution_count": 4,
   "id": "c27fe65e-0fa5-438c-97ae-e9227e94024e",
   "metadata": {},
   "outputs": [
    {
     "name": "stdout",
     "output_type": "stream",
     "text": [
      "{'name': 'ishat'}\n"
     ]
    }
   ],
   "source": [
    "dict1[\"name\"] = \"ishat\"\n",
    "print(dict1)"
   ]
  },
  {
   "cell_type": "code",
   "execution_count": 8,
   "id": "5973b933-6401-4f8e-9221-a2e8f89529de",
   "metadata": {},
   "outputs": [
    {
     "data": {
      "text/plain": [
       "25"
      ]
     },
     "execution_count": 8,
     "metadata": {},
     "output_type": "execute_result"
    }
   ],
   "source": [
    "dict1.get(\"func_key\")(5)"
   ]
  },
  {
   "cell_type": "code",
   "execution_count": 11,
   "id": "f547a64e-bd9e-419f-964b-3ae13aed58fe",
   "metadata": {},
   "outputs": [
    {
     "data": {
      "text/plain": [
       "dict_keys"
      ]
     },
     "execution_count": 11,
     "metadata": {},
     "output_type": "execute_result"
    }
   ],
   "source": [
    "type(dict1.keys())"
   ]
  },
  {
   "cell_type": "markdown",
   "id": "13e17d0f-8fd6-4967-b9b0-1b9fd90e5299",
   "metadata": {},
   "source": [
    "# NUMPY"
   ]
  },
  {
   "cell_type": "code",
   "execution_count": 12,
   "id": "339889f0-a573-4b73-bb81-e10b904a7e36",
   "metadata": {},
   "outputs": [
    {
     "name": "stdout",
     "output_type": "stream",
     "text": [
      "Requirement already satisfied: numpy in d:\\anaconda\\lib\\site-packages (2.1.3)\n"
     ]
    }
   ],
   "source": [
    "!pip install numpy"
   ]
  },
  {
   "cell_type": "code",
   "execution_count": 20,
   "id": "8e2ba497-b7c5-4e9f-ba9d-b23c95f4645e",
   "metadata": {},
   "outputs": [],
   "source": [
    "import numpy as np"
   ]
  },
  {
   "cell_type": "code",
   "execution_count": 22,
   "id": "ab2eea52-9e00-434c-be22-b54a9c573197",
   "metadata": {},
   "outputs": [
    {
     "name": "stdout",
     "output_type": "stream",
     "text": [
      "[2 4 6]\n"
     ]
    },
    {
     "data": {
      "text/plain": [
       "numpy.ndarray"
      ]
     },
     "execution_count": 22,
     "metadata": {},
     "output_type": "execute_result"
    }
   ],
   "source": [
    "arr = np.array([2,4,6])\n",
    "print(arr)\n",
    "type(arr)"
   ]
  },
  {
   "cell_type": "markdown",
   "id": "dbf6b164-fc33-42d4-ae8e-01aa10270c1a",
   "metadata": {},
   "source": [
    "### print dimention\n"
   ]
  },
  {
   "cell_type": "code",
   "execution_count": 23,
   "id": "110556e3-e733-4dcb-93fc-7150f5968fc6",
   "metadata": {},
   "outputs": [
    {
     "data": {
      "text/plain": [
       "1"
      ]
     },
     "execution_count": 23,
     "metadata": {},
     "output_type": "execute_result"
    }
   ],
   "source": [
    "arr.ndim"
   ]
  },
  {
   "cell_type": "code",
   "execution_count": 24,
   "id": "3b00aff4-18f0-44fb-b4d5-e6bcce7d40f3",
   "metadata": {},
   "outputs": [
    {
     "name": "stdout",
     "output_type": "stream",
     "text": [
      "[[[2 3 4]]]\n",
      "3\n"
     ]
    }
   ],
   "source": [
    "arr2 = np.array([[[2,3,4]]])\n",
    "print(arr2)\n",
    "print(arr2.ndim)"
   ]
  },
  {
   "cell_type": "code",
   "execution_count": 26,
   "id": "754f4db6-b847-4d68-ad96-7ca9d6d5aee4",
   "metadata": {},
   "outputs": [
    {
     "name": "stdout",
     "output_type": "stream",
     "text": [
      "[[2 3 4]\n",
      " [1 2 3]]\n",
      "2\n"
     ]
    }
   ],
   "source": [
    "arr3 = np.array([[2,3,4],[1,2,3]])\n",
    "print(arr3)\n",
    "print(arr3.ndim)"
   ]
  },
  {
   "cell_type": "markdown",
   "id": "7e4c67aa-e1a1-486b-8ffe-93e7320ec14d",
   "metadata": {},
   "source": [
    "**list length have to same**"
   ]
  },
  {
   "cell_type": "markdown",
   "id": "7444cbe7-f616-40ce-a526-0428d790ec44",
   "metadata": {},
   "source": [
    "### Multi dimention"
   ]
  },
  {
   "cell_type": "code",
   "execution_count": 29,
   "id": "5cfb6b5d-76b5-4305-a70c-7aabd1700202",
   "metadata": {},
   "outputs": [
    {
     "name": "stdout",
     "output_type": "stream",
     "text": [
      "3\n"
     ]
    }
   ],
   "source": [
    "arr4 = np.array([[[2,5,6],[1,2,3]],[[11,23,4],[43,3,55]]])\n",
    "print(arr4.ndim)"
   ]
  },
  {
   "cell_type": "code",
   "execution_count": 30,
   "id": "0bd5acab-cc37-44ed-b632-82fad96150c5",
   "metadata": {},
   "outputs": [
    {
     "name": "stdout",
     "output_type": "stream",
     "text": [
      "[[[ 2  5  6]\n",
      "  [ 1  2  3]]\n",
      "\n",
      " [[11 23  4]\n",
      "  [43  3 55]]]\n"
     ]
    }
   ],
   "source": [
    "print(arr4)"
   ]
  },
  {
   "cell_type": "markdown",
   "id": "fec74ef8-a20a-4a67-92c4-c53dccf26580",
   "metadata": {},
   "source": [
    "**3D shape === (block, num of rows in each block, num of cols in each block)**"
   ]
  },
  {
   "cell_type": "code",
   "execution_count": 32,
   "id": "fe32fd69-28ab-43d4-8115-d22b7a01dd85",
   "metadata": {},
   "outputs": [
    {
     "data": {
      "text/plain": [
       "(2, 2, 3)"
      ]
     },
     "execution_count": 32,
     "metadata": {},
     "output_type": "execute_result"
    }
   ],
   "source": [
    "arr4.shape"
   ]
  },
  {
   "cell_type": "markdown",
   "id": "7e89d7fb-3e44-4a09-b14f-adf4c0c39f3d",
   "metadata": {},
   "source": [
    "***different data type allowed but will be converted to string***"
   ]
  },
  {
   "cell_type": "code",
   "execution_count": 36,
   "id": "d7d024c2-a83e-40e5-8d5b-528c295bf091",
   "metadata": {},
   "outputs": [
    {
     "name": "stdout",
     "output_type": "stream",
     "text": [
      "type <U21\n",
      "['1' '3' 'True' 'mahi']\n"
     ]
    }
   ],
   "source": [
    "mix_arr = np.array([1,3,True,\"mahi\"])\n",
    "print(\"type\",mix_arr.dtype)\n",
    "print(mix_arr) #all strings"
   ]
  },
  {
   "cell_type": "markdown",
   "id": "776b6fa9-1fdc-4fca-a716-57fba17c54c9",
   "metadata": {},
   "source": [
    "### zeros, ones"
   ]
  },
  {
   "cell_type": "markdown",
   "id": "b0de438b-fca6-4acc-8d79-9a0a0e381166",
   "metadata": {},
   "source": [
    "# indexing and slicing"
   ]
  },
  {
   "cell_type": "code",
   "execution_count": 42,
   "id": "2796c6fb-8487-4bcf-a4e5-7b7f9b56ddfb",
   "metadata": {},
   "outputs": [],
   "source": [
    "arr6 = np.array([[2,4,5],[1,2,3],[4,5,6],[3,4,1]])"
   ]
  },
  {
   "cell_type": "code",
   "execution_count": 43,
   "id": "036fb3a2-35d5-4b5c-9a2c-d613d859777e",
   "metadata": {},
   "outputs": [
    {
     "data": {
      "text/plain": [
       "array([[2, 4, 5],\n",
       "       [1, 2, 3],\n",
       "       [4, 5, 6],\n",
       "       [3, 4, 1]])"
      ]
     },
     "execution_count": 43,
     "metadata": {},
     "output_type": "execute_result"
    }
   ],
   "source": [
    "arr6"
   ]
  },
  {
   "cell_type": "code",
   "execution_count": 41,
   "id": "fb593c56-7566-4a6d-9fe1-969f0a5f6440",
   "metadata": {
    "scrolled": true
   },
   "outputs": [
    {
     "data": {
      "text/plain": [
       "2"
      ]
     },
     "execution_count": 41,
     "metadata": {},
     "output_type": "execute_result"
    }
   ],
   "source": [
    "arr6.ndim"
   ]
  },
  {
   "cell_type": "markdown",
   "id": "e863d18f-f1b3-4294-8569-c30d8b8b3d16",
   "metadata": {},
   "source": [
    "## [rows range,col range]\n",
    "### index from 0, exclusive ending"
   ]
  },
  {
   "cell_type": "code",
   "execution_count": 46,
   "id": "1ead7d29-6496-47a3-9100-59410e4f52fc",
   "metadata": {},
   "outputs": [
    {
     "data": {
      "text/plain": [
       "array([[2, 4],\n",
       "       [1, 2]])"
      ]
     },
     "execution_count": 46,
     "metadata": {},
     "output_type": "execute_result"
    }
   ],
   "source": [
    "arr6[0:2,0:2] "
   ]
  },
  {
   "cell_type": "code",
   "execution_count": 50,
   "id": "4b75f275-35ce-4e3a-bcbf-973eb19f0455",
   "metadata": {},
   "outputs": [
    {
     "name": "stdout",
     "output_type": "stream",
     "text": [
      "[[[ 3  5  7]\n",
      "  [ 6  8 10]]]\n"
     ]
    },
    {
     "data": {
      "text/plain": [
       "array([5, 7])"
      ]
     },
     "execution_count": 50,
     "metadata": {},
     "output_type": "execute_result"
    }
   ],
   "source": [
    "arr7 = np.array([[[3,5,7],[6,8,10]]])\n",
    "#print 8\n",
    "print(arr7)\n",
    "arr7[0,0,1:3]"
   ]
  },
  {
   "cell_type": "code",
   "execution_count": 51,
   "id": "528b7390-1c4b-4ad8-840b-3353522b6dd7",
   "metadata": {},
   "outputs": [],
   "source": [
    "arr8 = np.array([\n",
    "    [ [1, 2, 3],\n",
    "      [4, 5, 6] ],\n",
    "\n",
    "    [ [7, 8, 9],\n",
    "      [10, 11, 12] ]\n",
    "])"
   ]
  },
  {
   "cell_type": "markdown",
   "id": "abd4c76a-3769-4083-b0e1-d38496e19523",
   "metadata": {},
   "source": [
    "## Matrix Calculations"
   ]
  },
  {
   "cell_type": "markdown",
   "id": "f418f52e-a251-4873-9790-47130baf8078",
   "metadata": {},
   "source": [
    "20,28,29,30"
   ]
  }
 ],
 "metadata": {
  "kernelspec": {
   "display_name": "Python (venv)",
   "language": "python",
   "name": "venv"
  },
  "language_info": {
   "codemirror_mode": {
    "name": "ipython",
    "version": 3
   },
   "file_extension": ".py",
   "mimetype": "text/x-python",
   "name": "python",
   "nbconvert_exporter": "python",
   "pygments_lexer": "ipython3",
   "version": "3.13.3"
  }
 },
 "nbformat": 4,
 "nbformat_minor": 5
}
