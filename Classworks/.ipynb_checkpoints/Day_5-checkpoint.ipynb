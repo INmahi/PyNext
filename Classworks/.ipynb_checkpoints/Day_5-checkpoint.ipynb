{
 "cells": [
  {
   "cell_type": "markdown",
   "id": "5c5cf036-e7fb-4795-939d-1a647ee6979f",
   "metadata": {},
   "source": [
    "## Day 5"
   ]
  },
  {
   "cell_type": "markdown",
   "id": "171c8065-85ab-4a28-b799-c14b69a8a591",
   "metadata": {},
   "source": [
    "### ```More On Pandas```"
   ]
  },
  {
   "cell_type": "code",
   "execution_count": 1,
   "id": "9b630bd1-9d4a-4ff7-bfb0-fd7ce1a5d7d5",
   "metadata": {},
   "outputs": [],
   "source": [
    "#1.inital observation => info(), Descriptive, head(10)etc"
   ]
  },
  {
   "cell_type": "markdown",
   "id": "bec07aef-25c9-41f3-b3bc-0f07e7156bd5",
   "metadata": {},
   "source": [
    "````Merge Dataset````"
   ]
  },
  {
   "cell_type": "code",
   "execution_count": 2,
   "id": "4194ae56-e441-4fc6-860d-eb06e0297e75",
   "metadata": {},
   "outputs": [],
   "source": [
    "#concate, Joining, Merging\n",
    "# Row-wise merging, Column wise merging"
   ]
  },
  {
   "cell_type": "code",
   "execution_count": 3,
   "id": "7a8c265e-8f6b-4b1d-b6b7-636f1c16ffbc",
   "metadata": {},
   "outputs": [],
   "source": [
    "import pandas as pd"
   ]
  },
  {
   "cell_type": "code",
   "execution_count": 4,
   "id": "2e695439-7426-44d9-9e7d-468b49b97846",
   "metadata": {},
   "outputs": [],
   "source": [
    "#Concate\n",
    "df1 = pd.DataFrame({\n",
    "    \"Name\": [\"Alice\", \"Bob\", \"Charlie\"],\n",
    "    \"Age\": [25, 30, 35]\n",
    "})\n",
    "\n",
    "df2 = pd.DataFrame({\n",
    "    \"Name\": [\"David\", \"Eva\", \"Frank\", \"Grace\"],\n",
    "    \"Age\": [28, 22, 40, 31]\n",
    "})"
   ]
  },
  {
   "cell_type": "code",
   "execution_count": 5,
   "id": "12a7d47d-41b8-420a-bfad-d64942a66900",
   "metadata": {},
   "outputs": [
    {
     "data": {
      "text/html": [
       "<div>\n",
       "<style scoped>\n",
       "    .dataframe tbody tr th:only-of-type {\n",
       "        vertical-align: middle;\n",
       "    }\n",
       "\n",
       "    .dataframe tbody tr th {\n",
       "        vertical-align: top;\n",
       "    }\n",
       "\n",
       "    .dataframe thead th {\n",
       "        text-align: right;\n",
       "    }\n",
       "</style>\n",
       "<table border=\"1\" class=\"dataframe\">\n",
       "  <thead>\n",
       "    <tr style=\"text-align: right;\">\n",
       "      <th></th>\n",
       "      <th>Name</th>\n",
       "      <th>Age</th>\n",
       "    </tr>\n",
       "  </thead>\n",
       "  <tbody>\n",
       "    <tr>\n",
       "      <th>0</th>\n",
       "      <td>Alice</td>\n",
       "      <td>25</td>\n",
       "    </tr>\n",
       "    <tr>\n",
       "      <th>1</th>\n",
       "      <td>Bob</td>\n",
       "      <td>30</td>\n",
       "    </tr>\n",
       "    <tr>\n",
       "      <th>2</th>\n",
       "      <td>Charlie</td>\n",
       "      <td>35</td>\n",
       "    </tr>\n",
       "    <tr>\n",
       "      <th>3</th>\n",
       "      <td>David</td>\n",
       "      <td>28</td>\n",
       "    </tr>\n",
       "    <tr>\n",
       "      <th>4</th>\n",
       "      <td>Eva</td>\n",
       "      <td>22</td>\n",
       "    </tr>\n",
       "    <tr>\n",
       "      <th>5</th>\n",
       "      <td>Frank</td>\n",
       "      <td>40</td>\n",
       "    </tr>\n",
       "    <tr>\n",
       "      <th>6</th>\n",
       "      <td>Grace</td>\n",
       "      <td>31</td>\n",
       "    </tr>\n",
       "  </tbody>\n",
       "</table>\n",
       "</div>"
      ],
      "text/plain": [
       "      Name  Age\n",
       "0    Alice   25\n",
       "1      Bob   30\n",
       "2  Charlie   35\n",
       "3    David   28\n",
       "4      Eva   22\n",
       "5    Frank   40\n",
       "6    Grace   31"
      ]
     },
     "execution_count": 5,
     "metadata": {},
     "output_type": "execute_result"
    }
   ],
   "source": [
    "df3 = pd.concat([df1,df2],ignore_index=True)\n",
    "df3"
   ]
  },
  {
   "cell_type": "code",
   "execution_count": 6,
   "id": "aee659d9-18d9-4e11-a478-ccede193b19d",
   "metadata": {},
   "outputs": [
    {
     "data": {
      "text/html": [
       "<div>\n",
       "<style scoped>\n",
       "    .dataframe tbody tr th:only-of-type {\n",
       "        vertical-align: middle;\n",
       "    }\n",
       "\n",
       "    .dataframe tbody tr th {\n",
       "        vertical-align: top;\n",
       "    }\n",
       "\n",
       "    .dataframe thead th {\n",
       "        text-align: right;\n",
       "    }\n",
       "</style>\n",
       "<table border=\"1\" class=\"dataframe\">\n",
       "  <thead>\n",
       "    <tr style=\"text-align: right;\">\n",
       "      <th></th>\n",
       "      <th>Name</th>\n",
       "      <th>Age</th>\n",
       "      <th>Name_2</th>\n",
       "      <th>Age_2</th>\n",
       "    </tr>\n",
       "  </thead>\n",
       "  <tbody>\n",
       "    <tr>\n",
       "      <th>0</th>\n",
       "      <td>Alice</td>\n",
       "      <td>25.0</td>\n",
       "      <td>NaN</td>\n",
       "      <td>NaN</td>\n",
       "    </tr>\n",
       "    <tr>\n",
       "      <th>1</th>\n",
       "      <td>Bob</td>\n",
       "      <td>30.0</td>\n",
       "      <td>NaN</td>\n",
       "      <td>NaN</td>\n",
       "    </tr>\n",
       "    <tr>\n",
       "      <th>2</th>\n",
       "      <td>Charlie</td>\n",
       "      <td>35.0</td>\n",
       "      <td>NaN</td>\n",
       "      <td>NaN</td>\n",
       "    </tr>\n",
       "    <tr>\n",
       "      <th>3</th>\n",
       "      <td>NaN</td>\n",
       "      <td>NaN</td>\n",
       "      <td>David</td>\n",
       "      <td>28.0</td>\n",
       "    </tr>\n",
       "    <tr>\n",
       "      <th>4</th>\n",
       "      <td>NaN</td>\n",
       "      <td>NaN</td>\n",
       "      <td>Eva</td>\n",
       "      <td>22.0</td>\n",
       "    </tr>\n",
       "    <tr>\n",
       "      <th>5</th>\n",
       "      <td>NaN</td>\n",
       "      <td>NaN</td>\n",
       "      <td>Frank</td>\n",
       "      <td>40.0</td>\n",
       "    </tr>\n",
       "    <tr>\n",
       "      <th>6</th>\n",
       "      <td>NaN</td>\n",
       "      <td>NaN</td>\n",
       "      <td>Grace</td>\n",
       "      <td>31.0</td>\n",
       "    </tr>\n",
       "  </tbody>\n",
       "</table>\n",
       "</div>"
      ],
      "text/plain": [
       "      Name   Age Name_2  Age_2\n",
       "0    Alice  25.0    NaN    NaN\n",
       "1      Bob  30.0    NaN    NaN\n",
       "2  Charlie  35.0    NaN    NaN\n",
       "3      NaN   NaN  David   28.0\n",
       "4      NaN   NaN    Eva   22.0\n",
       "5      NaN   NaN  Frank   40.0\n",
       "6      NaN   NaN  Grace   31.0"
      ]
     },
     "execution_count": 6,
     "metadata": {},
     "output_type": "execute_result"
    }
   ],
   "source": [
    "df1 = pd.DataFrame({\n",
    "    \"Name\": [\"Alice\", \"Bob\", \"Charlie\"],\n",
    "    \"Age\": [25, 30, 35]\n",
    "})\n",
    "\n",
    "df2 = pd.DataFrame({\n",
    "    \"Name_2\": [\"David\", \"Eva\", \"Frank\", \"Grace\"],\n",
    "    \"Age_2\": [28, 22, 40, 31]\n",
    "})\n",
    "\n",
    "df4 = pd.concat([df1,df2],ignore_index=True)\n",
    "df4"
   ]
  },
  {
   "cell_type": "code",
   "execution_count": 7,
   "id": "1f2636af-20f5-4486-bbb7-cdefcb6ab6b3",
   "metadata": {},
   "outputs": [],
   "source": [
    "#\n",
    "df1 = pd.DataFrame({\n",
    "    \"Name\": [\"Alice\", \"Bob\", \"Charlie\"],\n",
    "    \"Age\": [25, 30, 35]\n",
    "})\n",
    "\n",
    "df2 = pd.DataFrame({\n",
    "    \"Name\": [\"David\", \"Eva\", \"Frank\", \"Grace\"],\n",
    "    \"Age\": [28, 22, 40, 31]\n",
    "})\n",
    "\n",
    "df3 = pd.concat([df1,df2],ignore_index=True)\n",
    "#add new col\n",
    "#df3 = pd.DataFrame({\"City\":[\"Paris\",\"London\",\"NY\",\"Paris\",\"London\",\"NY\"]})\n",
    "#pd.concat([df1,df2],axis=1)"
   ]
  },
  {
   "cell_type": "code",
   "execution_count": null,
   "id": "56395549-3d79-462c-9025-61f51bbf7da7",
   "metadata": {},
   "outputs": [],
   "source": [
    "df1.join(df2)"
   ]
  },
  {
   "cell_type": "code",
   "execution_count": null,
   "id": "dc8d253b-7826-4529-8682-554af1531afe",
   "metadata": {},
   "outputs": [],
   "source": [
    "df1 = pd.DataFrame({\n",
    "    \"Age\": [25, 30, 35]\n",
    "},index=[\"Alice\", \"Bob\", \"Charlie\"])\n",
    "\n",
    "\n",
    "df2 = pd.DataFrame({\n",
    "    \"City\": [\"Paris\",\"London\",\"NY\"]\n",
    "},index=[\"Alice\", \"Bob\", \"Charlie\"])\n",
    "\n"
   ]
  },
  {
   "cell_type": "code",
   "execution_count": null,
   "id": "02eb9123-10d1-479d-82fd-79d9bd70ed3e",
   "metadata": {},
   "outputs": [],
   "source": [
    "#2 dataset, diff number of cols, merging based on a common index ===> Join"
   ]
  },
  {
   "cell_type": "code",
   "execution_count": null,
   "id": "8cced225-1b18-4c23-877e-a8026c781f79",
   "metadata": {},
   "outputs": [],
   "source": [
    "print(df1)\n",
    "print(df2)"
   ]
  },
  {
   "cell_type": "code",
   "execution_count": null,
   "id": "e62852a1-be6c-4ad8-9542-b1ec0aaa4e3a",
   "metadata": {},
   "outputs": [],
   "source": [
    "df1.join(df2)"
   ]
  },
  {
   "cell_type": "code",
   "execution_count": null,
   "id": "326f6569-0bd4-41af-8200-58d58dda27bf",
   "metadata": {},
   "outputs": [],
   "source": [
    "#\n",
    "df1 = pd.DataFrame({\n",
    "    \"Age\": [25, 30, 35],\n",
    "    \"ID\": [101, 102, 103]   # hardcoded IDs\n",
    "}, index=[\"Alice\", \"Bob\", \"Charlie\"])\n",
    "\n",
    "df2 = pd.DataFrame({\n",
    "    \"City\": [\"Paris\", \"London\", \"NY\"],\n",
    "    \"ID\": [101, 102, 103]   # hardcoded IDs\n",
    "}, index=[\"Alice\", \"Bob\", \"Charlie\"])\n",
    "\n",
    "pd.merge(df1,df2,on=\"ID\")"
   ]
  },
  {
   "cell_type": "markdown",
   "id": "650dd19f-0eba-4d5c-9b1e-b4a6f1b3b890",
   "metadata": {},
   "source": [
    "## Spotting & Taming Outliers"
   ]
  },
  {
   "cell_type": "code",
   "execution_count": null,
   "id": "6a6e2b75-ac96-4f1f-a327-549784502e2e",
   "metadata": {},
   "outputs": [],
   "source": [
    "#Remedial Measurement (Outliers)\n",
    "#1. Detect\n",
    "#2. Measurements-----iqr,z-score\n",
    "# ----Variable Transformation (log,sqrt,box-cox)\n"
   ]
  },
  {
   "cell_type": "code",
   "execution_count": null,
   "id": "f2574fcf-8bb4-4823-9f55-aeac46e54299",
   "metadata": {},
   "outputs": [],
   "source": [
    "import pandas as pd\n",
    "import numpy as np\n",
    "\n",
    "# Sample data with an outlier\n",
    "data = pd.Series([10, 12, 11, 13, 100, 14, 15])\n",
    "Q1 = data.quantile(0.25)\n",
    "Q3 = data.quantile(0.75)\n",
    "IQR = Q3 - Q1\n",
    "upper_bound = Q3 + 1.5 * IQR\n",
    "lower_bound = Q1 - 1.5 * IQR\n",
    "\n",
    "outliers = data[(data < lower_bound) | (data > upper_bound)]\n",
    "print(\"Outliers:\\n\", outliers)"
   ]
  },
  {
   "cell_type": "code",
   "execution_count": null,
   "id": "65b265a6-a9ca-42b4-b5b6-50fa5437c73b",
   "metadata": {},
   "outputs": [],
   "source": [
    "#Navigating Missing Values\n",
    "\n",
    "data = {'A': [1, 2, np.nan, 4],\n",
    " 'B': [5, np.nan, 7, 8]}\n",
    "df = pd.DataFrame(data)"
   ]
  },
  {
   "cell_type": "code",
   "execution_count": null,
   "id": "aa984630-1e45-43fb-98fd-71286f5f92bc",
   "metadata": {},
   "outputs": [],
   "source": [
    "df.isnull().sum()"
   ]
  },
  {
   "cell_type": "code",
   "execution_count": null,
   "id": "4b284a9d-ccca-4676-b5b5-6370db740e97",
   "metadata": {},
   "outputs": [],
   "source": [
    "df['A'].isnull().sum()"
   ]
  },
  {
   "cell_type": "code",
   "execution_count": null,
   "id": "5dfc0ef1-df96-427c-9977-fdefedd04eb4",
   "metadata": {},
   "outputs": [],
   "source": [
    "################IMPUTATION############\n",
    "## MEAN,Median,Mode ##\n",
    "## MICE = Multiple ##\n"
   ]
  },
  {
   "cell_type": "code",
   "execution_count": null,
   "id": "2cd90e47-05e6-4058-adc4-692b65ec6987",
   "metadata": {},
   "outputs": [],
   "source": []
  },
  {
   "cell_type": "code",
   "execution_count": null,
   "id": "553d6361-576c-48de-8a7d-51528b7387d8",
   "metadata": {},
   "outputs": [],
   "source": []
  },
  {
   "cell_type": "code",
   "execution_count": null,
   "id": "632df7e2-8fef-4452-b595-228c95452c93",
   "metadata": {},
   "outputs": [],
   "source": []
  },
  {
   "cell_type": "code",
   "execution_count": null,
   "id": "6fcb840b-f541-4fc8-af72-8e7c740d1984",
   "metadata": {},
   "outputs": [],
   "source": []
  },
  {
   "cell_type": "code",
   "execution_count": null,
   "id": "1184e12f-cea7-4f48-97b3-b9717727cb4a",
   "metadata": {},
   "outputs": [],
   "source": []
  },
  {
   "cell_type": "markdown",
   "id": "5e03b56c-3aa1-4782-a342-94fcbb64fbaf",
   "metadata": {},
   "source": [
    "## Pivot Tables"
   ]
  },
  {
   "cell_type": "code",
   "execution_count": null,
   "id": "9ee4b26d-ad03-47ad-ac67-cc53d352637b",
   "metadata": {},
   "outputs": [],
   "source": [
    "data = {'Region': ['East', 'West', 'East', 'West', 'East'],\n",
    " 'Category': ['A', 'B', 'A', 'B', 'C'],\n",
    " 'Sales': [100, 150, 120, 180, 200]}\n",
    "df = pd.DataFrame(data)\n",
    "df"
   ]
  },
  {
   "cell_type": "code",
   "execution_count": null,
   "id": "6d5fabe2-0eaf-4070-adf5-d3305cf4aa57",
   "metadata": {},
   "outputs": [],
   "source": [
    "df.groupby(\"Region\")[\"Sales\"].mean()"
   ]
  },
  {
   "cell_type": "code",
   "execution_count": null,
   "id": "6d879c41-e8a3-4f2d-b54d-6ba737100fd6",
   "metadata": {},
   "outputs": [],
   "source": [
    "# Summarize Sales by Region and Category\n",
    "pivot = pd.pivot_table(df, values='Sales', \n",
    " index='Region', \n",
    " columns='Category', \n",
    " aggfunc='sum')\n",
    "print(\"\\nSales Pivot Table:\\n\", pivot)"
   ]
  },
  {
   "cell_type": "code",
   "execution_count": 10,
   "id": "f0bfd20d-54cb-4630-b944-c18c8df1ace9",
   "metadata": {},
   "outputs": [
    {
     "name": "stdout",
     "output_type": "stream",
     "text": [
      "Requirement already satisfied: seaborn in d:\\anaconda\\lib\\site-packages (0.13.2)\n",
      "Requirement already satisfied: numpy!=1.24.0,>=1.20 in d:\\anaconda\\lib\\site-packages (from seaborn) (2.1.3)\n",
      "Requirement already satisfied: pandas>=1.2 in d:\\anaconda\\lib\\site-packages (from seaborn) (2.2.3)\n",
      "Requirement already satisfied: matplotlib!=3.6.1,>=3.4 in d:\\anaconda\\lib\\site-packages (from seaborn) (3.10.0)\n",
      "Requirement already satisfied: contourpy>=1.0.1 in d:\\anaconda\\lib\\site-packages (from matplotlib!=3.6.1,>=3.4->seaborn) (1.3.1)\n",
      "Requirement already satisfied: cycler>=0.10 in d:\\anaconda\\lib\\site-packages (from matplotlib!=3.6.1,>=3.4->seaborn) (0.11.0)\n",
      "Requirement already satisfied: fonttools>=4.22.0 in d:\\anaconda\\lib\\site-packages (from matplotlib!=3.6.1,>=3.4->seaborn) (4.55.3)\n",
      "Requirement already satisfied: kiwisolver>=1.3.1 in d:\\anaconda\\lib\\site-packages (from matplotlib!=3.6.1,>=3.4->seaborn) (1.4.8)\n",
      "Requirement already satisfied: packaging>=20.0 in d:\\anaconda\\lib\\site-packages (from matplotlib!=3.6.1,>=3.4->seaborn) (24.2)\n",
      "Requirement already satisfied: pillow>=8 in d:\\anaconda\\lib\\site-packages (from matplotlib!=3.6.1,>=3.4->seaborn) (11.1.0)\n",
      "Requirement already satisfied: pyparsing>=2.3.1 in d:\\anaconda\\lib\\site-packages (from matplotlib!=3.6.1,>=3.4->seaborn) (3.2.0)\n",
      "Requirement already satisfied: python-dateutil>=2.7 in d:\\anaconda\\lib\\site-packages (from matplotlib!=3.6.1,>=3.4->seaborn) (2.9.0.post0)\n",
      "Requirement already satisfied: pytz>=2020.1 in d:\\anaconda\\lib\\site-packages (from pandas>=1.2->seaborn) (2024.1)\n",
      "Requirement already satisfied: tzdata>=2022.7 in d:\\anaconda\\lib\\site-packages (from pandas>=1.2->seaborn) (2025.2)\n",
      "Requirement already satisfied: six>=1.5 in d:\\anaconda\\lib\\site-packages (from python-dateutil>=2.7->matplotlib!=3.6.1,>=3.4->seaborn) (1.17.0)\n"
     ]
    }
   ],
   "source": [
    "!pip install seaborn"
   ]
  },
  {
   "cell_type": "code",
   "execution_count": null,
   "id": "964250f6-5d5a-4c27-a813-2e663245ba85",
   "metadata": {},
   "outputs": [],
   "source": [
    "import pandas as pd\n",
    "import seaborn as sns\n",
    "import matplotlib.pyplot as plt\n",
    "\n",
    "data = {'Feature1': [10, 20, 30, 40, 50],\n",
    " 'Feature2': [2, 4, 6, 8, 10],\n",
    " 'Feature3': [15, 12, 10, 8, 5]}\n",
    "df = pd.DataFrame(data)\n",
    "\n",
    "print(\"Correlation Matrix:\\n\", df.corr())\n",
    "\n",
    "# Visualize with a heatmap\n",
    "plt.figure(figsize=(6, 4))\n",
    "sns.heatmap(df.corr(), annot=True, cmap='coolwarm', fmt=\".2f\")\n",
    "plt.title('Correlation Heatmap')\n",
    "plt.show()"
   ]
  },
  {
   "cell_type": "code",
   "execution_count": null,
   "id": "854b1e5b-51b7-4775-9135-10596bc765bc",
   "metadata": {},
   "outputs": [],
   "source": [
    "pip show seaborn"
   ]
  },
  {
   "cell_type": "markdown",
   "id": "23fc3845-3783-434c-b318-2fa31b4877dc",
   "metadata": {},
   "source": [
    "## Datetime"
   ]
  },
  {
   "cell_type": "code",
   "execution_count": 18,
   "id": "31eb4f9a-18fd-48b0-bcf9-4d6755e416b9",
   "metadata": {},
   "outputs": [
    {
     "data": {
      "text/html": [
       "<div>\n",
       "<style scoped>\n",
       "    .dataframe tbody tr th:only-of-type {\n",
       "        vertical-align: middle;\n",
       "    }\n",
       "\n",
       "    .dataframe tbody tr th {\n",
       "        vertical-align: top;\n",
       "    }\n",
       "\n",
       "    .dataframe thead th {\n",
       "        text-align: right;\n",
       "    }\n",
       "</style>\n",
       "<table border=\"1\" class=\"dataframe\">\n",
       "  <thead>\n",
       "    <tr style=\"text-align: right;\">\n",
       "      <th></th>\n",
       "      <th>Time</th>\n",
       "      <th>Income</th>\n",
       "    </tr>\n",
       "  </thead>\n",
       "  <tbody>\n",
       "    <tr>\n",
       "      <th>0</th>\n",
       "      <td>2024-12-31 10:10:10</td>\n",
       "      <td>12</td>\n",
       "    </tr>\n",
       "    <tr>\n",
       "      <th>1</th>\n",
       "      <td>2004-05-25 12:11:10</td>\n",
       "      <td>15</td>\n",
       "    </tr>\n",
       "    <tr>\n",
       "      <th>2</th>\n",
       "      <td>2025-08-28 17:51:10</td>\n",
       "      <td>11</td>\n",
       "    </tr>\n",
       "    <tr>\n",
       "      <th>3</th>\n",
       "      <td>2024-12-31 10:10:10</td>\n",
       "      <td>14</td>\n",
       "    </tr>\n",
       "  </tbody>\n",
       "</table>\n",
       "</div>"
      ],
      "text/plain": [
       "                  Time  Income\n",
       "0  2024-12-31 10:10:10      12\n",
       "1  2004-05-25 12:11:10      15\n",
       "2  2025-08-28 17:51:10      11\n",
       "3  2024-12-31 10:10:10      14"
      ]
     },
     "execution_count": 18,
     "metadata": {},
     "output_type": "execute_result"
    }
   ],
   "source": [
    "#default yy-mm-dd HH:MM:SS\n",
    "\n",
    "dict = {\n",
    "    'Time' : ['2024-12-31 10:10:10','2004-05-25 12:11:10','2025-08-28 17:51:10','2024-12-31 10:10:10'],\n",
    "    'Income' : [12,15,11,14] \n",
    "}\n",
    "\n",
    "df = pd.DataFrame(dict)\n",
    "df.head()"
   ]
  },
  {
   "cell_type": "code",
   "execution_count": 19,
   "id": "e418693e-9ec3-4620-a95b-6ba8cb7d59cb",
   "metadata": {},
   "outputs": [
    {
     "name": "stdout",
     "output_type": "stream",
     "text": [
      "<class 'pandas.core.frame.DataFrame'>\n",
      "RangeIndex: 4 entries, 0 to 3\n",
      "Data columns (total 2 columns):\n",
      " #   Column  Non-Null Count  Dtype \n",
      "---  ------  --------------  ----- \n",
      " 0   Time    4 non-null      object\n",
      " 1   Income  4 non-null      int64 \n",
      "dtypes: int64(1), object(1)\n",
      "memory usage: 196.0+ bytes\n"
     ]
    }
   ],
   "source": [
    "df.info()"
   ]
  },
  {
   "cell_type": "code",
   "execution_count": 27,
   "id": "a81db4c5-eab7-4930-8b31-9573d7b8aa01",
   "metadata": {},
   "outputs": [
    {
     "data": {
      "text/html": [
       "<div>\n",
       "<style scoped>\n",
       "    .dataframe tbody tr th:only-of-type {\n",
       "        vertical-align: middle;\n",
       "    }\n",
       "\n",
       "    .dataframe tbody tr th {\n",
       "        vertical-align: top;\n",
       "    }\n",
       "\n",
       "    .dataframe thead th {\n",
       "        text-align: right;\n",
       "    }\n",
       "</style>\n",
       "<table border=\"1\" class=\"dataframe\">\n",
       "  <thead>\n",
       "    <tr style=\"text-align: right;\">\n",
       "      <th></th>\n",
       "      <th>Time</th>\n",
       "      <th>Income</th>\n",
       "      <th>New_time</th>\n",
       "    </tr>\n",
       "  </thead>\n",
       "  <tbody>\n",
       "    <tr>\n",
       "      <th>0</th>\n",
       "      <td>2024-12-31 10:10:10</td>\n",
       "      <td>12</td>\n",
       "      <td>2024-12-31 10:10:10</td>\n",
       "    </tr>\n",
       "    <tr>\n",
       "      <th>1</th>\n",
       "      <td>2004-05-25 12:11:10</td>\n",
       "      <td>15</td>\n",
       "      <td>2004-05-25 12:11:10</td>\n",
       "    </tr>\n",
       "    <tr>\n",
       "      <th>2</th>\n",
       "      <td>2025-08-28 17:51:10</td>\n",
       "      <td>11</td>\n",
       "      <td>2025-08-28 17:51:10</td>\n",
       "    </tr>\n",
       "    <tr>\n",
       "      <th>3</th>\n",
       "      <td>2024-12-31 10:10:10</td>\n",
       "      <td>14</td>\n",
       "      <td>2024-12-31 10:10:10</td>\n",
       "    </tr>\n",
       "  </tbody>\n",
       "</table>\n",
       "</div>"
      ],
      "text/plain": [
       "                  Time  Income            New_time\n",
       "0  2024-12-31 10:10:10      12 2024-12-31 10:10:10\n",
       "1  2004-05-25 12:11:10      15 2004-05-25 12:11:10\n",
       "2  2025-08-28 17:51:10      11 2025-08-28 17:51:10\n",
       "3  2024-12-31 10:10:10      14 2024-12-31 10:10:10"
      ]
     },
     "execution_count": 27,
     "metadata": {},
     "output_type": "execute_result"
    }
   ],
   "source": [
    "df['New_time'] = pd.to_datetime(df[\"Time\"])\n",
    "df"
   ]
  },
  {
   "cell_type": "code",
   "execution_count": 23,
   "id": "52aba0fe-adb7-4010-9ca6-4d890f74315b",
   "metadata": {},
   "outputs": [
    {
     "data": {
      "text/html": [
       "<div>\n",
       "<style scoped>\n",
       "    .dataframe tbody tr th:only-of-type {\n",
       "        vertical-align: middle;\n",
       "    }\n",
       "\n",
       "    .dataframe tbody tr th {\n",
       "        vertical-align: top;\n",
       "    }\n",
       "\n",
       "    .dataframe thead th {\n",
       "        text-align: right;\n",
       "    }\n",
       "</style>\n",
       "<table border=\"1\" class=\"dataframe\">\n",
       "  <thead>\n",
       "    <tr style=\"text-align: right;\">\n",
       "      <th></th>\n",
       "      <th>Time</th>\n",
       "      <th>Income</th>\n",
       "    </tr>\n",
       "  </thead>\n",
       "  <tbody>\n",
       "    <tr>\n",
       "      <th>0</th>\n",
       "      <td>2024-12-31 10:10:10</td>\n",
       "      <td>12</td>\n",
       "    </tr>\n",
       "    <tr>\n",
       "      <th>1</th>\n",
       "      <td>2004-05-25 12:11:10</td>\n",
       "      <td>15</td>\n",
       "    </tr>\n",
       "    <tr>\n",
       "      <th>2</th>\n",
       "      <td>2025-08-28 17:51:10</td>\n",
       "      <td>11</td>\n",
       "    </tr>\n",
       "    <tr>\n",
       "      <th>3</th>\n",
       "      <td>2024-12-31 10:10:10</td>\n",
       "      <td>14</td>\n",
       "    </tr>\n",
       "  </tbody>\n",
       "</table>\n",
       "</div>"
      ],
      "text/plain": [
       "                  Time  Income\n",
       "0  2024-12-31 10:10:10      12\n",
       "1  2004-05-25 12:11:10      15\n",
       "2  2025-08-28 17:51:10      11\n",
       "3  2024-12-31 10:10:10      14"
      ]
     },
     "execution_count": 23,
     "metadata": {},
     "output_type": "execute_result"
    }
   ],
   "source": [
    "df"
   ]
  },
  {
   "cell_type": "code",
   "execution_count": null,
   "id": "38c656a1-d551-4281-8831-a82cd5170eb1",
   "metadata": {},
   "outputs": [],
   "source": [
    "df.info()"
   ]
  },
  {
   "cell_type": "code",
   "execution_count": 28,
   "id": "ae0be5cf-3d21-496a-8e79-00e55088f571",
   "metadata": {},
   "outputs": [
    {
     "data": {
      "text/plain": [
       "0    12\n",
       "1     5\n",
       "2     8\n",
       "3    12\n",
       "Name: New_time, dtype: int32"
      ]
     },
     "execution_count": 28,
     "metadata": {},
     "output_type": "execute_result"
    }
   ],
   "source": [
    "df['New_time'].dt.month"
   ]
  },
  {
   "cell_type": "code",
   "execution_count": null,
   "id": "d77c1dde-7858-4c3f-88f0-68bd84f89329",
   "metadata": {},
   "outputs": [],
   "source": []
  }
 ],
 "metadata": {
  "kernelspec": {
   "display_name": "Python (venv)",
   "language": "python",
   "name": "venv"
  },
  "language_info": {
   "codemirror_mode": {
    "name": "ipython",
    "version": 3
   },
   "file_extension": ".py",
   "mimetype": "text/x-python",
   "name": "python",
   "nbconvert_exporter": "python",
   "pygments_lexer": "ipython3",
   "version": "3.13.3"
  }
 },
 "nbformat": 4,
 "nbformat_minor": 5
}
