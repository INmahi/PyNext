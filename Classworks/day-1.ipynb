{
 "cells": [
  {
   "cell_type": "code",
   "execution_count": 3,
   "id": "83cac6d8-a35c-4488-9d03-57d384a51f18",
   "metadata": {},
   "outputs": [
    {
     "name": "stdout",
     "output_type": "stream",
     "text": [
      "hello people\n"
     ]
    }
   ],
   "source": [
    "print(\"hello people\")"
   ]
  },
  {
   "cell_type": "code",
   "execution_count": 8,
   "id": "c2ecd55c-331d-4c17-9017-e5432d65f196",
   "metadata": {},
   "outputs": [
    {
     "name": "stdout",
     "output_type": "stream",
     "text": [
      "['False', 'None', 'True', 'and', 'as', 'assert', 'async', 'await', 'break', 'class', 'continue', 'def', 'del', 'elif', 'else', 'except', 'finally', 'for', 'from', 'global', 'if', 'import', 'in', 'is', 'lambda', 'nonlocal', 'not', 'or', 'pass', 'raise', 'return', 'try', 'while', 'with', 'yield']\n"
     ]
    }
   ],
   "source": [
    "import keyword\n",
    "print(keyword.kwlist)"
   ]
  },
  {
   "cell_type": "code",
   "execution_count": 10,
   "id": "06d6ed04-8beb-4f4a-a3df-1c783cd7bf55",
   "metadata": {},
   "outputs": [
    {
     "data": {
      "text/plain": [
       "3"
      ]
     },
     "execution_count": 10,
     "metadata": {},
     "output_type": "execute_result"
    }
   ],
   "source": [
    "int(3.14)"
   ]
  },
  {
   "cell_type": "code",
   "execution_count": 11,
   "id": "ef8b29db-c475-45b4-a895-1a895f3c8efe",
   "metadata": {},
   "outputs": [
    {
     "data": {
      "text/plain": [
       "3"
      ]
     },
     "execution_count": 11,
     "metadata": {},
     "output_type": "execute_result"
    }
   ],
   "source": [
    "int(3.99)"
   ]
  },
  {
   "cell_type": "code",
   "execution_count": 12,
   "id": "ab33efc5-4e4c-41b2-a715-a166bad44b70",
   "metadata": {},
   "outputs": [],
   "source": [
    "x = 25\n",
    "y = 25.7"
   ]
  },
  {
   "cell_type": "code",
   "execution_count": 15,
   "id": "dc9d3b6a-790a-475c-808b-40f022c91ca9",
   "metadata": {},
   "outputs": [],
   "source": [
    "condition  = True"
   ]
  },
  {
   "cell_type": "code",
   "execution_count": 16,
   "id": "7f3f1b1b-65c6-4f32-aadf-7aa57f094c9c",
   "metadata": {},
   "outputs": [
    {
     "data": {
      "text/plain": [
       "bool"
      ]
     },
     "execution_count": 16,
     "metadata": {},
     "output_type": "execute_result"
    }
   ],
   "source": [
    "type(condition)"
   ]
  },
  {
   "cell_type": "code",
   "execution_count": 17,
   "id": "f24bb9f2-1c30-401b-a7d7-27e124370139",
   "metadata": {},
   "outputs": [
    {
     "data": {
      "text/plain": [
       "1"
      ]
     },
     "execution_count": 17,
     "metadata": {},
     "output_type": "execute_result"
    }
   ],
   "source": [
    "int(condition)"
   ]
  },
  {
   "cell_type": "code",
   "execution_count": 18,
   "id": "765a210a-c7a5-4e9f-a812-4290ace8ea51",
   "metadata": {},
   "outputs": [
    {
     "name": "stdin",
     "output_type": "stream",
     "text": [
      "Enter your name:  mahi\n"
     ]
    }
   ],
   "source": [
    "name  = input(\"Enter your name: \")"
   ]
  },
  {
   "cell_type": "code",
   "execution_count": 19,
   "id": "03b3194a-45e4-4f97-874a-130ab9f149f6",
   "metadata": {},
   "outputs": [
    {
     "name": "stdout",
     "output_type": "stream",
     "text": [
      "mahi\n"
     ]
    }
   ],
   "source": [
    "print(name)"
   ]
  },
  {
   "cell_type": "code",
   "execution_count": 21,
   "id": "b1c40f43-8868-431b-a729-efc31bfdc69e",
   "metadata": {},
   "outputs": [
    {
     "name": "stdin",
     "output_type": "stream",
     "text": [
      "enter numbers 23 12\n"
     ]
    }
   ],
   "source": [
    "x,y = input(\"enter numbers\").split()"
   ]
  },
  {
   "cell_type": "code",
   "execution_count": 22,
   "id": "625b66a2-d107-40b1-956a-72d0658225b3",
   "metadata": {},
   "outputs": [
    {
     "name": "stdout",
     "output_type": "stream",
     "text": [
      "23 12\n"
     ]
    }
   ],
   "source": [
    "print(x,y)"
   ]
  },
  {
   "cell_type": "code",
   "execution_count": 24,
   "id": "924d49d6-2d84-4d1b-a69e-50c11cba8a92",
   "metadata": {},
   "outputs": [
    {
     "name": "stdin",
     "output_type": "stream",
     "text": [
      "enter numbers:  25 24 26\n"
     ]
    }
   ],
   "source": [
    "numbers = input(\"enter numbers: \").split()\n"
   ]
  },
  {
   "cell_type": "markdown",
   "id": "b954b93f-b179-47bf-be7b-5bbd40125006",
   "metadata": {},
   "source": [
    "## Logical Operator"
   ]
  },
  {
   "cell_type": "code",
   "execution_count": 41,
   "id": "cccbdd39-f164-4c6e-979d-4ef8374879f5",
   "metadata": {},
   "outputs": [],
   "source": [
    "x,y = True, False"
   ]
  },
  {
   "cell_type": "code",
   "execution_count": 46,
   "id": "ccb6b96a-a5ff-4d53-b5c3-640ca3a5267b",
   "metadata": {},
   "outputs": [],
   "source": [
    "a,b=5,6"
   ]
  },
  {
   "cell_type": "code",
   "execution_count": null,
   "id": "83061044-46a5-498c-aef1-13e16d05aef5",
   "metadata": {},
   "outputs": [],
   "source": []
  },
  {
   "cell_type": "markdown",
   "id": "b025e7cf-9b47-4551-97f2-b894a2572464",
   "metadata": {},
   "source": [
    "## Strings\n"
   ]
  },
  {
   "cell_type": "code",
   "execution_count": null,
   "id": "2b601725-129b-467a-bccd-658fb5374f80",
   "metadata": {},
   "outputs": [],
   "source": [
    "#'He said, \"i ams okay\""
   ]
  },
  {
   "cell_type": "code",
   "execution_count": 48,
   "id": "51676798-97e7-40d4-9337-852f9c9c01c6",
   "metadata": {},
   "outputs": [],
   "source": [
    "st = \"hello world\""
   ]
  },
  {
   "cell_type": "code",
   "execution_count": 51,
   "id": "2903bb13-9529-48c4-94d2-bc05024e7393",
   "metadata": {},
   "outputs": [
    {
     "name": "stdout",
     "output_type": "stream",
     "text": [
      "h\n"
     ]
    }
   ],
   "source": [
    "print(st[0:2:2])"
   ]
  },
  {
   "cell_type": "code",
   "execution_count": 52,
   "id": "824ccaa3-4229-4f62-a97d-8bf4f9c99d70",
   "metadata": {},
   "outputs": [],
   "source": [
    "y = \"pynext\""
   ]
  },
  {
   "cell_type": "code",
   "execution_count": 53,
   "id": "20bf7366-5081-4cd3-829d-5e721bc264e6",
   "metadata": {},
   "outputs": [
    {
     "name": "stdout",
     "output_type": "stream",
     "text": [
      "next\n"
     ]
    }
   ],
   "source": [
    "print(y[2:])"
   ]
  },
  {
   "cell_type": "code",
   "execution_count": 54,
   "id": "19b3d861-ba11-46c1-9d9f-016bcd79442d",
   "metadata": {},
   "outputs": [
    {
     "name": "stdout",
     "output_type": "stream",
     "text": [
      "next\n"
     ]
    }
   ],
   "source": [
    "print(y[-4:])"
   ]
  },
  {
   "cell_type": "code",
   "execution_count": 55,
   "id": "c7f54487-b035-48fd-a45b-422b20e85430",
   "metadata": {},
   "outputs": [],
   "source": [
    "strr = \"aaa AAA\""
   ]
  },
  {
   "cell_type": "code",
   "execution_count": 56,
   "id": "81341ea9-2349-4635-b592-31903e7b4752",
   "metadata": {},
   "outputs": [
    {
     "data": {
      "text/plain": [
       "'AAA aaa'"
      ]
     },
     "execution_count": 56,
     "metadata": {},
     "output_type": "execute_result"
    }
   ],
   "source": [
    "strr.swapcase()"
   ]
  },
  {
   "cell_type": "code",
   "execution_count": 57,
   "id": "c5432c8e-1601-4ddc-8f6a-9d1bc0204632",
   "metadata": {},
   "outputs": [
    {
     "data": {
      "text/plain": [
       "'aaa AAA'"
      ]
     },
     "execution_count": 57,
     "metadata": {},
     "output_type": "execute_result"
    }
   ],
   "source": [
    "strr.swapcase().swapcase()"
   ]
  },
  {
   "cell_type": "code",
   "execution_count": 58,
   "id": "2debed11-4d55-4fc4-a515-17b7e9f479a9",
   "metadata": {},
   "outputs": [
    {
     "data": {
      "text/plain": [
       "'aaa AAA'"
      ]
     },
     "execution_count": 58,
     "metadata": {},
     "output_type": "execute_result"
    }
   ],
   "source": [
    "strr.replace(\"abb\",\"bbb\")"
   ]
  },
  {
   "cell_type": "code",
   "execution_count": 61,
   "id": "8b6f48c5-1d7f-4293-b283-cfa49249fe5d",
   "metadata": {},
   "outputs": [],
   "source": [
    "sp = strr.split(\" \")"
   ]
  },
  {
   "cell_type": "code",
   "execution_count": 62,
   "id": "ec9f5d25-d72c-4ae6-9537-e6c69983e347",
   "metadata": {},
   "outputs": [
    {
     "data": {
      "text/plain": [
       "'aaa#AAA'"
      ]
     },
     "execution_count": 62,
     "metadata": {},
     "output_type": "execute_result"
    }
   ],
   "source": [
    "('#').join(sp)"
   ]
  },
  {
   "cell_type": "code",
   "execution_count": 63,
   "id": "20b6cf79-c8a0-479a-8f44-515590057c0b",
   "metadata": {},
   "outputs": [],
   "source": [
    "new = \"hello i am mahi\""
   ]
  },
  {
   "cell_type": "code",
   "execution_count": 65,
   "id": "00909fd7-04be-42cd-9f03-8821faa55ef5",
   "metadata": {},
   "outputs": [],
   "source": [
    "str = \"inmahi@gmail.com-034\""
   ]
  },
  {
   "cell_type": "code",
   "execution_count": 73,
   "id": "cf75576e-b6bb-47c0-a0d8-bbdfeb48fbfb",
   "metadata": {},
   "outputs": [],
   "source": [
    "desc = str.split(\"@gmail.com-\")"
   ]
  },
  {
   "cell_type": "code",
   "execution_count": 74,
   "id": "ca03cbd1-fc05-4dbd-ac28-d5020c0c864d",
   "metadata": {},
   "outputs": [
    {
     "data": {
      "text/plain": [
       "'inmahi.034'"
      ]
     },
     "execution_count": 74,
     "metadata": {},
     "output_type": "execute_result"
    }
   ],
   "source": [
    "(\".\").join(desc)"
   ]
  },
  {
   "cell_type": "code",
   "execution_count": 75,
   "id": "21f3ec7e-7e39-4fbd-a882-e2c93381c4db",
   "metadata": {},
   "outputs": [],
   "source": [
    "mystr = \"a random good word good\""
   ]
  },
  {
   "cell_type": "code",
   "execution_count": 79,
   "id": "3db0e03a-e1d6-4639-8d7d-99a6aa00aad7",
   "metadata": {},
   "outputs": [
    {
     "data": {
      "text/plain": [
       "9"
      ]
     },
     "execution_count": 79,
     "metadata": {},
     "output_type": "execute_result"
    }
   ],
   "source": [
    "mystr.find(\"good\")"
   ]
  },
  {
   "cell_type": "code",
   "execution_count": 83,
   "id": "0a26fb88-3469-4562-b0aa-ef9e19ed3404",
   "metadata": {},
   "outputs": [
    {
     "data": {
      "text/plain": [
       "'good'"
      ]
     },
     "execution_count": 83,
     "metadata": {},
     "output_type": "execute_result"
    }
   ],
   "source": [
    "mystr[mystr.find(\"good\"):9+len(\"good\")]"
   ]
  },
  {
   "cell_type": "code",
   "execution_count": 81,
   "id": "411d94df-cff1-4051-ba6e-d7283b702d30",
   "metadata": {},
   "outputs": [
    {
     "data": {
      "text/plain": [
       "2"
      ]
     },
     "execution_count": 81,
     "metadata": {},
     "output_type": "execute_result"
    }
   ],
   "source": [
    "mystr.count(\"good\")"
   ]
  },
  {
   "cell_type": "markdown",
   "id": "2ddc187a-347d-496f-a3cd-e92b66e26656",
   "metadata": {},
   "source": [
    "## F-strings\n"
   ]
  },
  {
   "cell_type": "markdown",
   "id": "71f59db8-1d9e-4c12-8008-d773f446d3d2",
   "metadata": {},
   "source": [
    "## project"
   ]
  },
  {
   "cell_type": "code",
   "execution_count": 86,
   "id": "a10ab68d-81c5-4079-b2b9-fb889a524e41",
   "metadata": {},
   "outputs": [
    {
     "name": "stdin",
     "output_type": "stream",
     "text": [
      "Enter weitht 12\n"
     ]
    }
   ],
   "source": []
  },
  {
   "cell_type": "code",
   "execution_count": 87,
   "id": "c614f6f3-b14a-445c-8af6-2a592ff21761",
   "metadata": {},
   "outputs": [
    {
     "name": "stdin",
     "output_type": "stream",
     "text": [
      "Enter Height 12\n"
     ]
    }
   ],
   "source": []
  },
  {
   "cell_type": "code",
   "execution_count": null,
   "id": "7b325de9-c8b2-49ae-abda-bace485d8479",
   "metadata": {},
   "outputs": [],
   "source": [
    "\n",
    "height = float(input(\"Enter Height (Meter)\"))\n",
    "weight = float(input(\"Enter weitht (kg)\"))\n",
    "\n",
    "bmi = weight/(height*height)\n",
    "if bmi>= 30:\n",
    "    print(\"obese\")\n",
    "elif 25<bmi<30:\n",
    "    print(\"Overweight\")\n",
    "elif 18.5<=bmi<25:\n",
    "    print(\"Normal\")\n",
    "else:\n",
    "    print(\"Underweight\")\n",
    "    \n",
    "    "
   ]
  },
  {
   "cell_type": "markdown",
   "id": "f5df6eac-6c4f-4a44-b62d-e7c3049943e1",
   "metadata": {},
   "source": []
  },
  {
   "cell_type": "markdown",
   "id": "7c8107a9-2107-40e7-9a10-cb4a7ac6a1a5",
   "metadata": {},
   "source": [
    "# gpa : hw\n"
   ]
  },
  {
   "cell_type": "code",
   "execution_count": null,
   "id": "736f814a-1468-43e6-b321-09e430492de2",
   "metadata": {},
   "outputs": [],
   "source": []
  }
 ],
 "metadata": {
  "kernelspec": {
   "display_name": "Python (venv)",
   "language": "python",
   "name": "venv"
  },
  "language_info": {
   "codemirror_mode": {
    "name": "ipython",
    "version": 3
   },
   "file_extension": ".py",
   "mimetype": "text/x-python",
   "name": "python",
   "nbconvert_exporter": "python",
   "pygments_lexer": "ipython3",
   "version": "3.13.3"
  }
 },
 "nbformat": 4,
 "nbformat_minor": 5
}
