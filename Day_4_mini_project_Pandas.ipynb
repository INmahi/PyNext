{
 "cells": [
  {
   "cell_type": "markdown",
   "id": "070d5164-eeb4-4bb6-89b6-6191ab46a4a4",
   "metadata": {},
   "source": [
    "## Day 4 Project: Pandas\n",
    "### Ishat Noor (Mahi-3006)\n",
    "#### Statistics 1/1"
   ]
  },
  {
   "cell_type": "markdown",
   "id": "73cf7383-adad-4fdb-a5f6-e2f9ddf7ba07",
   "metadata": {},
   "source": [
    "```1. Create & Inspect DataFrame```"
   ]
  },
  {
   "cell_type": "code",
   "execution_count": null,
   "id": "b1c12af7-4740-42ac-a692-ddc5929e07a8",
   "metadata": {},
   "outputs": [],
   "source": [
    "#Load and read the dataset\n",
    "dataset_url = 'G:\\PyNext\\day 4\\Datasets'\n"
   ]
  },
  {
   "cell_type": "code",
   "execution_count": null,
   "id": "3e3e8b59-d8d7-49a5-941c-2c839d28e6ed",
   "metadata": {},
   "outputs": [],
   "source": []
  },
  {
   "cell_type": "code",
   "execution_count": null,
   "id": "7747a373-4389-4815-9fb0-5d39e3869e54",
   "metadata": {},
   "outputs": [],
   "source": []
  },
  {
   "cell_type": "code",
   "execution_count": null,
   "id": "bd88f2b2-5553-47d1-a7b7-4620ccdcefdb",
   "metadata": {},
   "outputs": [],
   "source": []
  }
 ],
 "metadata": {
  "kernelspec": {
   "display_name": "Python (venv)",
   "language": "python",
   "name": "venv"
  },
  "language_info": {
   "codemirror_mode": {
    "name": "ipython",
    "version": 3
   },
   "file_extension": ".py",
   "mimetype": "text/x-python",
   "name": "python",
   "nbconvert_exporter": "python",
   "pygments_lexer": "ipython3",
   "version": "3.13.3"
  }
 },
 "nbformat": 4,
 "nbformat_minor": 5
}
