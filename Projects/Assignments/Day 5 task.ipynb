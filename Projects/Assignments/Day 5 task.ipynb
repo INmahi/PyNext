{
 "cells": [
  {
   "cell_type": "markdown",
   "id": "f3d560c0",
   "metadata": {},
   "source": [
    "### <span style=\"color:#1976D2;\">Day 5 Task</span>\n",
    "\n",
    "<span>**Done by:** <span style=\"color:#388E3C;\">Ishat Noor Mahi</span>  \n",
    "**ID:** <span style=\"color:#D32F2F;\">Mahi-3006</span></span>"
   ]
  },
  {
   "cell_type": "code",
   "execution_count": 3,
   "id": "01bf7f6f",
   "metadata": {},
   "outputs": [],
   "source": [
    "import pandas as pd"
   ]
  },
  {
   "cell_type": "code",
   "execution_count": 4,
   "id": "acfd3ef4",
   "metadata": {},
   "outputs": [
    {
     "name": "stdout",
     "output_type": "stream",
     "text": [
      "Index(['PassengerId', 'Survived', 'Pclass', 'Name', 'Sex', 'Age', 'SibSp',\n",
      "       'Parch', 'Ticket', 'Fare', 'Cabin', 'Embarked'],\n",
      "      dtype='object')\n"
     ]
    }
   ],
   "source": [
    "dataset = '../../Datasets/titanic-cs.csv'\n",
    "data = pd.read_csv(dataset)\n",
    "df  = pd.DataFrame(data)\n",
    "print(df.columns)\n"
   ]
  },
  {
   "cell_type": "code",
   "execution_count": 42,
   "id": "1b8a035b",
   "metadata": {},
   "outputs": [
    {
     "data": {
      "text/plain": [
       "PassengerId    0\n",
       "Survived       0\n",
       "Pclass         0\n",
       "Name           0\n",
       "Sex            0\n",
       "Age            0\n",
       "SibSp          0\n",
       "Parch          0\n",
       "Ticket         0\n",
       "Fare           0\n",
       "Cabin          0\n",
       "Embarked       0\n",
       "dtype: int64"
      ]
     },
     "execution_count": 42,
     "metadata": {},
     "output_type": "execute_result"
    }
   ],
   "source": [
    "df.isnull().sum()"
   ]
  },
  {
   "cell_type": "code",
   "execution_count": 5,
   "id": "cfac9c1e",
   "metadata": {},
   "outputs": [
    {
     "data": {
      "text/plain": [
       "PassengerId    0\n",
       "Survived       0\n",
       "Pclass         0\n",
       "Name           0\n",
       "Sex            0\n",
       "Age            0\n",
       "SibSp          0\n",
       "Parch          0\n",
       "Ticket         0\n",
       "Fare           0\n",
       "Cabin          0\n",
       "Embarked       0\n",
       "dtype: int64"
      ]
     },
     "execution_count": 5,
     "metadata": {},
     "output_type": "execute_result"
    }
   ],
   "source": [
    "df['Age'] = df['Age'].fillna(df['Age'].mean())\n",
    "df['Cabin'] = df['Cabin'].fillna('Unknown')\n",
    "df['Embarked'] = df['Embarked'].fillna(df['Embarked'].mode()[0])\n",
    "df.isnull().sum()"
   ]
  },
  {
   "cell_type": "code",
   "execution_count": 6,
   "id": "0878d4f6-f186-44ce-b26f-f27bec29daf5",
   "metadata": {},
   "outputs": [],
   "source": [
    "df.to_csv('titanic-cs-cleaned.csv')"
   ]
  },
  {
   "cell_type": "code",
   "execution_count": 27,
   "id": "043c142e",
   "metadata": {},
   "outputs": [
    {
     "name": "stdout",
     "output_type": "stream",
     "text": [
      "Outliers in Age:\n",
      " 7       2.00\n",
      "11     58.00\n",
      "15     55.00\n",
      "16      2.00\n",
      "33     66.00\n",
      "       ...  \n",
      "827     1.00\n",
      "829    62.00\n",
      "831     0.83\n",
      "851    74.00\n",
      "879    56.00\n",
      "Name: Age, Length: 66, dtype: float64\n",
      "Outliers in Fare:\n",
      " 1       71.2833\n",
      "27     263.0000\n",
      "31     146.5208\n",
      "34      82.1708\n",
      "52      76.7292\n",
      "         ...   \n",
      "846     69.5500\n",
      "849     89.1042\n",
      "856    164.8667\n",
      "863     69.5500\n",
      "879     83.1583\n",
      "Name: Fare, Length: 116, dtype: float64\n",
      "Outliers in Parents/Children Aboard:\n",
      " 7      1\n",
      "8      2\n",
      "10     1\n",
      "13     5\n",
      "16     1\n",
      "      ..\n",
      "871    1\n",
      "879    1\n",
      "880    1\n",
      "885    5\n",
      "888    2\n",
      "Name: Parch, Length: 213, dtype: int64\n",
      "Outliers in Siblings/Spouses Aboard:\n",
      " 7      3\n",
      "16     4\n",
      "24     3\n",
      "27     3\n",
      "50     4\n",
      "59     5\n",
      "63     3\n",
      "68     4\n",
      "71     5\n",
      "85     3\n",
      "88     3\n",
      "119    4\n",
      "159    8\n",
      "164    4\n",
      "171    4\n",
      "176    3\n",
      "180    8\n",
      "182    4\n",
      "201    8\n",
      "229    3\n",
      "233    4\n",
      "261    4\n",
      "266    4\n",
      "278    4\n",
      "324    8\n",
      "341    3\n",
      "374    3\n",
      "386    5\n",
      "409    3\n",
      "480    5\n",
      "485    3\n",
      "541    4\n",
      "542    4\n",
      "634    3\n",
      "642    3\n",
      "683    5\n",
      "686    4\n",
      "726    3\n",
      "787    4\n",
      "792    8\n",
      "813    4\n",
      "819    3\n",
      "824    4\n",
      "846    8\n",
      "850    4\n",
      "863    8\n",
      "Name: SibSp, dtype: int64\n"
     ]
    }
   ],
   "source": [
    "num_cols = ['Age', 'Fare','SibSp','Parch']\n",
    "outliers = {}\n",
    "for col in num_cols:\n",
    "    Q1 = df[col].quantile(0.25)\n",
    "    Q3 = df[col].quantile(0.75)\n",
    "    IQR = Q3 - Q1\n",
    "    lower = Q1 - 1.5 * IQR\n",
    "    upper = Q3 + 1.5 * IQR\n",
    "    \n",
    "    mask = (df[col] < lower) | (df[col] > upper)\n",
    "    outliers[col] = df.loc[mask, col]\n",
    "\n",
    "print(\"Outliers in Age:\\n\", outliers[\"Age\"])\n",
    "print(\"Outliers in Fare:\\n\", outliers[\"Fare\"])\n",
    "print(\"Outliers in Parents/Children Aboard:\\n\", outliers[\"Parch\"])\n",
    "print(\"Outliers in Siblings/Spouses Aboard:\\n\", outliers[\"SibSp\"])"
   ]
  },
  {
   "cell_type": "code",
   "execution_count": 31,
   "id": "7b117c0c",
   "metadata": {},
   "outputs": [
    {
     "data": {
      "text/html": [
       "<div>\n",
       "<style scoped>\n",
       "    .dataframe tbody tr th:only-of-type {\n",
       "        vertical-align: middle;\n",
       "    }\n",
       "\n",
       "    .dataframe tbody tr th {\n",
       "        vertical-align: top;\n",
       "    }\n",
       "\n",
       "    .dataframe thead th {\n",
       "        text-align: right;\n",
       "    }\n",
       "</style>\n",
       "<table border=\"1\" class=\"dataframe\">\n",
       "  <thead>\n",
       "    <tr style=\"text-align: right;\">\n",
       "      <th></th>\n",
       "      <th>PassengerId</th>\n",
       "      <th>Survived</th>\n",
       "      <th>Pclass</th>\n",
       "      <th>Age</th>\n",
       "      <th>SibSp</th>\n",
       "      <th>Parch</th>\n",
       "      <th>Fare</th>\n",
       "    </tr>\n",
       "  </thead>\n",
       "  <tbody>\n",
       "    <tr>\n",
       "      <th>count</th>\n",
       "      <td>891.000000</td>\n",
       "      <td>891.000000</td>\n",
       "      <td>891.000000</td>\n",
       "      <td>891.000000</td>\n",
       "      <td>891.000000</td>\n",
       "      <td>891.000000</td>\n",
       "      <td>891.000000</td>\n",
       "    </tr>\n",
       "    <tr>\n",
       "      <th>mean</th>\n",
       "      <td>446.000000</td>\n",
       "      <td>0.383838</td>\n",
       "      <td>2.308642</td>\n",
       "      <td>29.699118</td>\n",
       "      <td>0.523008</td>\n",
       "      <td>0.381594</td>\n",
       "      <td>32.204208</td>\n",
       "    </tr>\n",
       "    <tr>\n",
       "      <th>std</th>\n",
       "      <td>257.353842</td>\n",
       "      <td>0.486592</td>\n",
       "      <td>0.836071</td>\n",
       "      <td>13.002015</td>\n",
       "      <td>1.102743</td>\n",
       "      <td>0.806057</td>\n",
       "      <td>49.693429</td>\n",
       "    </tr>\n",
       "    <tr>\n",
       "      <th>min</th>\n",
       "      <td>1.000000</td>\n",
       "      <td>0.000000</td>\n",
       "      <td>1.000000</td>\n",
       "      <td>0.420000</td>\n",
       "      <td>0.000000</td>\n",
       "      <td>0.000000</td>\n",
       "      <td>0.000000</td>\n",
       "    </tr>\n",
       "    <tr>\n",
       "      <th>25%</th>\n",
       "      <td>223.500000</td>\n",
       "      <td>0.000000</td>\n",
       "      <td>2.000000</td>\n",
       "      <td>22.000000</td>\n",
       "      <td>0.000000</td>\n",
       "      <td>0.000000</td>\n",
       "      <td>7.910400</td>\n",
       "    </tr>\n",
       "    <tr>\n",
       "      <th>50%</th>\n",
       "      <td>446.000000</td>\n",
       "      <td>0.000000</td>\n",
       "      <td>3.000000</td>\n",
       "      <td>29.699118</td>\n",
       "      <td>0.000000</td>\n",
       "      <td>0.000000</td>\n",
       "      <td>14.454200</td>\n",
       "    </tr>\n",
       "    <tr>\n",
       "      <th>75%</th>\n",
       "      <td>668.500000</td>\n",
       "      <td>1.000000</td>\n",
       "      <td>3.000000</td>\n",
       "      <td>35.000000</td>\n",
       "      <td>1.000000</td>\n",
       "      <td>0.000000</td>\n",
       "      <td>31.000000</td>\n",
       "    </tr>\n",
       "    <tr>\n",
       "      <th>max</th>\n",
       "      <td>891.000000</td>\n",
       "      <td>1.000000</td>\n",
       "      <td>3.000000</td>\n",
       "      <td>80.000000</td>\n",
       "      <td>8.000000</td>\n",
       "      <td>6.000000</td>\n",
       "      <td>512.329200</td>\n",
       "    </tr>\n",
       "  </tbody>\n",
       "</table>\n",
       "</div>"
      ],
      "text/plain": [
       "       PassengerId    Survived      Pclass         Age       SibSp  \\\n",
       "count   891.000000  891.000000  891.000000  891.000000  891.000000   \n",
       "mean    446.000000    0.383838    2.308642   29.699118    0.523008   \n",
       "std     257.353842    0.486592    0.836071   13.002015    1.102743   \n",
       "min       1.000000    0.000000    1.000000    0.420000    0.000000   \n",
       "25%     223.500000    0.000000    2.000000   22.000000    0.000000   \n",
       "50%     446.000000    0.000000    3.000000   29.699118    0.000000   \n",
       "75%     668.500000    1.000000    3.000000   35.000000    1.000000   \n",
       "max     891.000000    1.000000    3.000000   80.000000    8.000000   \n",
       "\n",
       "            Parch        Fare  \n",
       "count  891.000000  891.000000  \n",
       "mean     0.381594   32.204208  \n",
       "std      0.806057   49.693429  \n",
       "min      0.000000    0.000000  \n",
       "25%      0.000000    7.910400  \n",
       "50%      0.000000   14.454200  \n",
       "75%      0.000000   31.000000  \n",
       "max      6.000000  512.329200  "
      ]
     },
     "execution_count": 31,
     "metadata": {},
     "output_type": "execute_result"
    }
   ],
   "source": [
    "df.describe()"
   ]
  },
  {
   "cell_type": "code",
   "execution_count": 39,
   "id": "d01b2c7d",
   "metadata": {},
   "outputs": [
    {
     "name": "stdout",
     "output_type": "stream",
     "text": [
      "Sex        female       male\n",
      "Pclass                      \n",
      "1       96.808511  36.885246\n",
      "2       92.105263  15.740741\n",
      "3       50.000000  13.544669\n"
     ]
    }
   ],
   "source": [
    "pivot_table = df.pivot_table(values='Survived', index='Pclass', columns='Sex', aggfunc='mean') * 100\n",
    "print(pivot_table)"
   ]
  },
  {
   "cell_type": "code",
   "execution_count": 40,
   "id": "be6d10de",
   "metadata": {},
   "outputs": [
    {
     "name": "stdout",
     "output_type": "stream",
     "text": [
      "PassengerId    96.808511\n",
      "Survived       96.808511\n",
      "Pclass         96.808511\n",
      "Name           96.808511\n",
      "Sex            96.808511\n",
      "Age            96.808511\n",
      "SibSp          96.808511\n",
      "Parch          96.808511\n",
      "Ticket         96.808511\n",
      "Fare           96.808511\n",
      "Cabin          96.808511\n",
      "Embarked       96.808511\n",
      "dtype: float64\n"
     ]
    }
   ],
   "source": [
    "#verify manually\n",
    "rich_ladies = df[(df['Pclass'] == 1) & (df['Sex'] == 'female')].count()\n",
    "alive_rich_ladies = df[(df['Pclass'] == 1) & (df['Sex'] == 'female') & (df['Survived'] == 1)].count()\n",
    "percentage = (alive_rich_ladies / rich_ladies * 100)\n",
    "print(percentage) #96.8085 matches the pivot table data"
   ]
  },
  {
   "cell_type": "code",
   "execution_count": 41,
   "id": "27759810",
   "metadata": {},
   "outputs": [
    {
     "name": "stdout",
     "output_type": "stream",
     "text": [
      "            Age      Fare     SibSp     Parch\n",
      "Age    1.000000  0.091566 -0.232625 -0.179191\n",
      "Fare   0.091566  1.000000  0.159651  0.216225\n",
      "SibSp -0.232625  0.159651  1.000000  0.414838\n",
      "Parch -0.179191  0.216225  0.414838  1.000000\n"
     ]
    },
    {
     "data": {
      "image/png": "[encoded data removed]",
      "text/plain": [
       "<Figure size 500x300 with 2 Axes>"
      ]
     },
     "metadata": {},
     "output_type": "display_data"
    }
   ],
   "source": [
    "import seaborn as sns\n",
    "\n",
    "import matplotlib.pyplot as plt\n",
    "\n",
    "numerical_features = df[num_cols]\n",
    "\n",
    "corr_matrix = numerical_features.corr()\n",
    "print(corr_matrix)\n",
    "\n",
    "# Plot heatmap\n",
    "plt.figure(figsize=(5, 3))\n",
    "sns.heatmap(corr_matrix, annot=True, cmap='coolwarm', fmt=\".2f\")\n",
    "plt.title('Correlation Heatmap of Numerical Features')\n",
    "plt.show()"
   ]
  },
  {
   "cell_type": "code",
   "execution_count": 44,
   "id": "ba4acb07",
   "metadata": {},
   "outputs": [
    {
     "data": {
      "text/plain": [
       "Text(0, 0.5, 'Count')"
      ]
     },
     "execution_count": 44,
     "metadata": {},
     "output_type": "execute_result"
    },
    {
     "data": {
      "image/png": "[encoded data removed]",
      "text/plain": [
       "<Figure size 1200x300 with 2 Axes>"
      ]
     },
     "metadata": {},
     "output_type": "display_data"
    }
   ],
   "source": [
    "import matplotlib.pyplot as plt\n",
    "import seaborn as sns\n",
    "\n",
    "plt.figure(figsize=(12, 3))  # bigger for 4 plots\n",
    "\n",
    "# Top-left: Age\n",
    "plt.subplot(1, 2, 1)\n",
    "sns.histplot(df['Age'], bins=30, kde=True, color='skyblue')\n",
    "plt.title('Age Distribution')\n",
    "plt.xlabel('Age')\n",
    "plt.ylabel('Count')\n",
    "\n",
    "# Top-right: Fare\n",
    "plt.subplot(1, 2, 2)\n",
    "sns.histplot(df['Fare'], bins=30, kde=True, color='salmon')\n",
    "plt.title('Fae Distribution')\n",
    "plt.xlabel('Fare')\n",
    "plt.ylabel('Count')\n",
    "\n"
   ]
  },
  {
   "cell_type": "code",
   "execution_count": 13,
   "id": "5e40d08d",
   "metadata": {},
   "outputs": [
    {
     "name": "stderr",
     "output_type": "stream",
     "text": [
      "C:\\Users\\DELL\\AppData\\Local\\Temp\\ipykernel_13696\\2188335680.py:1: FutureWarning: \n",
      "\n",
      "Passing `palette` without assigning `hue` is deprecated and will be removed in v0.14.0. Assign the `x` variable to `hue` and set `legend=False` for the same effect.\n",
      "\n",
      "  sns.countplot(x='Survived', data=df, palette='Set2')\n"
     ]
    },
    {
     "data": {
      "image/png": "[encoded data removed]",
      "text/plain": [
       "<Figure size 640x480 with 1 Axes>"
      ]
     },
     "metadata": {},
     "output_type": "display_data"
    }
   ],
   "source": [
    "sns.countplot(x='Survived', data=df, palette='Set2')\n",
    "plt.title('Survivors vs. Non-Survivors')\n",
    "plt.xlabel('Survived')\n",
    "plt.ylabel('Count')\n",
    "plt.show()"
   ]
  }
 ],
 "metadata": {
  "kernelspec": {
   "display_name": "Python (venv)",
   "language": "python",
   "name": "venv"
  },
  "language_info": {
   "codemirror_mode": {
    "name": "ipython",
    "version": 3
   },
   "file_extension": ".py",
   "mimetype": "text/x-python",
   "name": "python",
   "nbconvert_exporter": "python",
   "pygments_lexer": "ipython3",
   "version": "3.13.3"
  }
 },
 "nbformat": 4,
 "nbformat_minor": 5
}
