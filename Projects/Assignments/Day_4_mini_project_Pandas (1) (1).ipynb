{
 "cells": [
  {
   "cell_type": "markdown",
   "id": "070d5164-eeb4-4bb6-89b6-6191ab46a4a4",
   "metadata": {},
   "source": [
    "## Day 4 Project: Pandas\n",
    "### Ishat Noor (Mahi-3006)\n",
    "#### Statistics 1/1"
   ]
  },
  {
   "cell_type": "markdown",
   "id": "73cf7383-adad-4fdb-a5f6-e2f9ddf7ba07",
   "metadata": {},
   "source": [
    "## ```1. Create & Inspect DataFrame```"
   ]
  },
  {
   "cell_type": "code",
   "execution_count": 96,
   "id": "b1c12af7-4740-42ac-a692-ddc5929e07a8",
   "metadata": {},
   "outputs": [],
   "source": [
    "#i.Load and read the dataset\n",
    "import pandas as pd\n",
    "dataset_url = 'G:/PyNext/day 4/Datasets/titanic-cs.csv'\n",
    "titanic = pd.read_csv(dataset_url)"
   ]
  },
  {
   "cell_type": "code",
   "execution_count": null,
   "id": "2a08f1e8-5271-47a0-86bd-ad535146b63b",
   "metadata": {},
   "outputs": [],
   "source": [
    "titanic"
   ]
  },
  {
   "cell_type": "code",
   "execution_count": null,
   "id": "3e3e8b59-d8d7-49a5-941c-2c839d28e6ed",
   "metadata": {},
   "outputs": [],
   "source": [
    "#ii. Check shape, columns, dtypes, head(), tail(), sample()\n",
    "print(titanic.shape)\n",
    "print(titanic.columns)\n",
    "print(titanic.shape)\n",
    "print(titanic.head())\n",
    "print(titanic.tail())\n",
    "print(titanic.sample(2))"
   ]
  },
  {
   "cell_type": "markdown",
   "id": "789e8d89-64a6-4235-af0d-d76c6f63a2b9",
   "metadata": {},
   "source": [
    "## ```2. Indexing & Slicing```"
   ]
  },
  {
   "cell_type": "code",
   "execution_count": null,
   "id": "7747a373-4389-4815-9fb0-5d39e3869e54",
   "metadata": {},
   "outputs": [],
   "source": [
    "#i. Select only Pclass & Fare columns\n",
    "print(titanic[['Pclass','Fare']])\n",
    "#ii. Slice first 10 passengers, last 5 passengers\n",
    "print(titanic.iloc[:10])\n",
    "print(titanic.iloc[-5:])"
   ]
  },
  {
   "cell_type": "code",
   "execution_count": null,
   "id": "bd88f2b2-5553-47d1-a7b7-4620ccdcefdb",
   "metadata": {},
   "outputs": [],
   "source": [
    "#iii. Select passengers aged under 18 (kids first into lifeboats 🚢).\n",
    "new_df = titanic.query('Age<18')\n",
    "print(new_df)"
   ]
  },
  {
   "cell_type": "markdown",
   "id": "830f634c-b359-44f1-a40c-3f906172a8ce",
   "metadata": {},
   "source": [
    "## ```3. Filtering```"
   ]
  },
  {
   "cell_type": "code",
   "execution_count": null,
   "id": "f45e34c9-2be3-43ca-831f-84ef2a52ca31",
   "metadata": {},
   "outputs": [],
   "source": [
    "#i. Passengers with Fare > 50\n",
    "fare_df = titanic.query('Fare>50')\n",
    "#ii. Females in Pclass = 1st (rich ladies, likely survivors 💼 🍱 )\n",
    "rich_ladies = titanic[(titanic[\"Pclass\"]==\"1st\") & (titanic[\"Sex\"]==\"female\")]\n",
    "print(rich_ladies.info())\n",
    "#iii. Males in Pclass = 3 (poor guys, least chance 😜)\n",
    "poor_guys = titanic[(titanic[\"Pclass\"]==\"3rd\") & (titanic[\"Sex\"]==\"male\")]\n",
    "print(poor_guys.info())"
   ]
  },
  {
   "cell_type": "markdown",
   "id": "5a553db1-4713-462b-9713-e795ee1762d0",
   "metadata": {},
   "source": [
    "## ````4. Adding/Modifying Columns````"
   ]
  },
  {
   "cell_type": "code",
   "execution_count": null,
   "id": "2f5d966f-0dc6-45d9-a2d5-78940802c06a",
   "metadata": {},
   "outputs": [],
   "source": [
    "#i. Add a new column: FamilySize = Siblings/Spouses Aboard + Parents/Children Aboard + 1\n",
    "titanic[\"FamilySize\"] = titanic[\"Parents/Children Aboard\"] + titanic[\"Siblings/Spouses Aboard\"] +1\n",
    "#ii. Create IsChild = Age < 18\n",
    "titanic[\"isChild\"] = titanic[\"Age\"]<18"
   ]
  },
  {
   "cell_type": "markdown",
   "id": "c0e55be8-59e2-4f1d-8322-0cc36e011d62",
   "metadata": {},
   "source": [
    "## ````5.Drop & Add Rows````"
   ]
  },
  {
   "cell_type": "code",
   "execution_count": null,
   "id": "b9c7a9fb-810a-47e3-ba17-ec442e8e73a8",
   "metadata": {},
   "outputs": [],
   "source": [
    "#i. Drop missing Age rows\n",
    "titanic.dropna(subset=[\"Age\"])"
   ]
  },
  {
   "cell_type": "code",
   "execution_count": null,
   "id": "f2a0f8c5-1d8d-422e-a7dd-ff0b029c7aba",
   "metadata": {},
   "outputs": [],
   "source": [
    "#ii. Add a “fictional passenger” row (Jack Dawson 💔)\n",
    "dawson = {\n",
    "    \"Pclass\": \"3rd\",\n",
    "    \"Sex\": \"male\",\n",
    "    \"Age\": 29.0,\n",
    "    \"Siblings/Spouses Aboard\": 0,\n",
    "    \"Parents/Children Aboard\": 0,\n",
    "    \"Fare\": 0,\n",
    "    \"Survived\": 1,\n",
    "    \"FamilySize\": 1,\n",
    "    \"isChild\": False\n",
    "}\n",
    "\n",
    "dawson_df = pd.DataFrame([dawson])\n",
    "\n",
    "new_titanic = pd.concat([titanic,dawson_df],ignore_index = True)\n",
    "new_titanic"
   ]
  },
  {
   "cell_type": "markdown",
   "id": "aee74dda-7997-4291-9ca9-ab2671001dee",
   "metadata": {},
   "source": [
    "## ```6. Grouping & Aggregation```"
   ]
  },
  {
   "cell_type": "code",
   "execution_count": null,
   "id": "564568a9-7008-4f16-93bb-5e366ae50910",
   "metadata": {},
   "outputs": [],
   "source": [
    "#i. Group by Pclass and get average Fare\n",
    "titanic.groupby(\"Pclass\")[\"Fare\"].mean()"
   ]
  },
  {
   "cell_type": "code",
   "execution_count": null,
   "id": "caecab0f-9385-49d9-840b-1108b29d491f",
   "metadata": {},
   "outputs": [],
   "source": [
    "#ii Group by Sex and see survival rate\n",
    "titanic.groupby('Sex')[\"Survived\"].count()\n",
    "#ii.\n",
    "\n",
    "\n"
   ]
  },
  {
   "cell_type": "markdown",
   "id": "46f1b11a-8d71-4ff3-83db-f9ec55f7fdd3",
   "metadata": {},
   "source": [
    "## ````7. Sorting````"
   ]
  },
  {
   "cell_type": "code",
   "execution_count": 104,
   "id": "ad4f54c2-38c5-4434-9bf2-81fa606e19a2",
   "metadata": {},
   "outputs": [],
   "source": [
    "# 7.i Sort passengers by Fare (descending)\n",
    "sorted_by_fare = titanic.sort_values(by=\"Fare\", ascending=False)\n",
    "# 7.ii Sort survivors by Age\n",
    "survivors = titanic[titanic[\"Survived\"] == \" Yes\"]  \n",
    "\n",
    "sorted_survivors_by_age = survivors.sort_values(by=\"Age\")\n"
   ]
  },
  {
   "cell_type": "code",
   "execution_count": null,
   "id": "b176d236-c585-4abb-bb4a-3de0d0a183ca",
   "metadata": {},
   "outputs": [],
   "source": []
  }
 ],
 "metadata": {
  "kernelspec": {
   "display_name": "Python (venv)",
   "language": "python",
   "name": "venv"
  },
  "language_info": {
   "codemirror_mode": {
    "name": "ipython",
    "version": 3
   },
   "file_extension": ".py",
   "mimetype": "text/x-python",
   "name": "python",
   "nbconvert_exporter": "python",
   "pygments_lexer": "ipython3",
   "version": "3.13.3"
  }
 },
 "nbformat": 4,
 "nbformat_minor": 5
}
