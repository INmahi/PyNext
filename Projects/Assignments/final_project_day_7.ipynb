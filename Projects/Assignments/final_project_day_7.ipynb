{
 "cells": [
  {
   "cell_type": "markdown",
   "id": "2cd6a953",
   "metadata": {},
   "source": [
    "<div align=\"center\">\n",
    "\n",
    "<h3 style=\"color:#3A86FF;\">📊 PyNext Final Assignment — EDA & Insights</h3>\n",
    "<h5 style=\"color:#FF006E;\">Submitted by: <b>Ishat Noor Mahi</b></h5>\n",
    "<h6 style=\"color:#8338EC;\">ID: <b>Mahi-3006</b></h6>\n",
    "<h6 style=\"color:#FB5607;\">Dept: <b>STATISTICS | 2024-2025</b></h6>\n",
    "\n",
    "</div>\n"
   ]
  },
  {
   "cell_type": "markdown",
   "id": "38f2a7d9",
   "metadata": {},
   "source": [
    "<div align=\"center\">\n",
    "    <h5 style=\"color:#FFBE0B;\"><b>1. Data Audit &amp; Cleaning (15 marks)</b></h5>\n",
    "</div>\n"
   ]
  },
  {
   "cell_type": "code",
   "execution_count": 14,
   "id": "9f32629f",
   "metadata": {},
   "outputs": [],
   "source": [
    "import numpy as np\n",
    "import pandas as pd"
   ]
  },
  {
   "cell_type": "code",
   "execution_count": 123,
   "id": "b9895026",
   "metadata": {},
   "outputs": [
    {
     "name": "stdout",
     "output_type": "stream",
     "text": [
      "(306, 36)\n",
      "300\n",
      "(300, 36)\n"
     ]
    }
   ],
   "source": [
    "#i. Load the dataset; print rows × columns and check student_id uniqueness.\n",
    "path = 'C:/Users/DELL/PyNext/Datasets/pynext_simple_gradebook - pynext_simple_gradebook.csv' \n",
    "gradebook = pd.read_csv(path)\n",
    "\n",
    "print(gradebook.shape)\n",
    "#print(gradebook.columns) #to get the column names correctly\n",
    "\n",
    "print(gradebook['student_id'].nunique())\n",
    "\n",
    "gradebook.drop_duplicates(subset=['student_id'],keep='first',inplace=True)\n",
    "\n",
    "print(gradebook.shape)"
   ]
  },
  {
   "cell_type": "code",
   "execution_count": 124,
   "id": "86992e92",
   "metadata": {},
   "outputs": [
    {
     "name": "stdout",
     "output_type": "stream",
     "text": [
      "          Column Data_type  %Missing_Value\n",
      "1     student_id    object            0.00\n",
      "2           name    object            0.00\n",
      "3           dept    object            0.00\n",
      "4         gender    object            0.00\n",
      "5       semester     int64            0.00\n",
      "6        section    object            0.00\n",
      "7      height_cm   float64            4.00\n",
      "8      weight_kg   float64            4.00\n",
      "9         att_T1     int64            0.00\n",
      "10        att_T2     int64            0.00\n",
      "11        att_T3     int64            0.00\n",
      "12        att_T4     int64            0.00\n",
      "13        att_T5     int64            0.00\n",
      "14        att_T6     int64            0.00\n",
      "15        att_T7     int64            0.00\n",
      "16  submitted_A1     int64            0.00\n",
      "17  submitted_A2     int64            0.00\n",
      "18  submitted_A3     int64            0.00\n",
      "19  submitted_A4     int64            0.00\n",
      "20  submitted_A5     int64            0.00\n",
      "21  submitted_A6     int64            0.00\n",
      "22  submitted_A7     int64            0.00\n",
      "23     ontime_A1     int64            0.00\n",
      "24     ontime_A2     int64            0.00\n",
      "25     ontime_A3     int64            0.00\n",
      "26     ontime_A4     int64            0.00\n",
      "27     ontime_A5     int64            0.00\n",
      "28     ontime_A6     int64            0.00\n",
      "29     ontime_A7     int64            0.00\n",
      "30      marks_A1   float64           21.67\n",
      "31      marks_A2   float64           17.00\n",
      "32      marks_A3   float64           18.33\n",
      "33      marks_A4   float64           16.33\n",
      "34      marks_A5   float64           17.00\n",
      "35      marks_A6   float64           17.67\n",
      "36      marks_A7   float64           19.67\n",
      "300\n"
     ]
    }
   ],
   "source": [
    "#ii. Show dtypes and % missing for each column.\n",
    "info_df = pd.DataFrame(\n",
    "    {\n",
    "        'Column' : gradebook.columns,\n",
    "        'Data_type': gradebook.dtypes.values,\n",
    "        '%Missing_Value': ((gradebook.isna().sum()/len(gradebook)).round(4)*100).values\n",
    "    },index=np.arange(1,len(gradebook.columns)+1)\n",
    ")\n",
    "print(info_df)\n",
    "print(len(gradebook))"
   ]
  },
  {
   "cell_type": "code",
   "execution_count": 125,
   "id": "3d8fdb14",
   "metadata": {},
   "outputs": [
    {
     "name": "stdout",
     "output_type": "stream",
     "text": [
      "dept_clean\n",
      "CSE    129\n",
      "EEE     63\n",
      "IPE     13\n",
      "MAT     20\n",
      "MEE     14\n",
      "PHY     20\n",
      "STA     27\n",
      "SWE     14\n",
      "Name: student_id, dtype: int64\n"
     ]
    }
   ],
   "source": [
    "#iii. Normalize dept and gender to clean categories.\n",
    "\n",
    "gradebook.groupby('dept')['dept'].count()\n",
    "\n",
    "def normalize_dept(x):\n",
    "    x = x.astype(str)\n",
    "    x = x.str.lower().str.strip()\n",
    "\n",
    "    mapping = {\n",
    "        'c.s.e':'CSE','cse':'CSE',\n",
    "        'e.e.e':'EEE','eleceng':'EEE','eee':'EEE',\n",
    "        'ipe':'IPE',\n",
    "        'mat':'MAT','mathematics':'MAT',\n",
    "        'mee':'MEE',\n",
    "        'phy':'PHY','physics':'PHY',\n",
    "        'sta':'STA','statistics':'STA',\n",
    "        'swe':'SWE','softwareeng':'SWE',      \n",
    "    }\n",
    "\n",
    "    return x.replace(mapping).str.upper()\n",
    "\n",
    "gradebook['dept_clean'] = normalize_dept(gradebook['dept'])\n",
    "\n",
    "print(gradebook.groupby('dept_clean')['student_id'].count())\n"
   ]
  },
  {
   "cell_type": "code",
   "execution_count": 126,
   "id": "a70a59c3",
   "metadata": {},
   "outputs": [
    {
     "data": {
      "text/plain": [
       "gender_clean\n",
       "Female    113\n",
       "Male      183\n",
       "Other       4\n",
       "Name: student_id, dtype: int64"
      ]
     },
     "execution_count": 126,
     "metadata": {},
     "output_type": "execute_result"
    }
   ],
   "source": [
    "#iii. Normalize dept and gender to clean categories.\n",
    "\n",
    "\n",
    "def normalize_gender(x):\n",
    "\n",
    "    x = x.astype(str)\n",
    "    x = x.str.strip().str.lower()\n",
    "\n",
    "    mapping = {\n",
    "        'f':'Female','female':'Female',\n",
    "        \"m\":'Male', 'male':'Male',\n",
    "        'other':'Other'\n",
    "    }\n",
    "\n",
    "    return x.replace(mapping)\n",
    "\n",
    "gradebook['gender_clean'] = normalize_gender(gradebook['gender'])\n",
    "\n",
    "gradebook.groupby('gender_clean')['student_id'].count()\n"
   ]
  },
  {
   "cell_type": "code",
   "execution_count": 127,
   "id": "837136fb",
   "metadata": {},
   "outputs": [],
   "source": [
    "#iv. Detect outliers in height_cm and weight_kg using IQR; flag them.\n",
    "\n",
    "def get_outliers(df,col):\n",
    "\n",
    "    Q1 = col.quantile(0.25)\n",
    "    Q3 = col.quantile(0.75)\n",
    "\n",
    "    IQR = Q3 - Q1\n",
    "\n",
    "    upper_bound = Q3 + 1.5*IQR\n",
    "    lower_bound = Q1 - 1.5*IQR\n",
    "\n",
    "    mask = (col<lower_bound) | (col>upper_bound)\n",
    "    flag_col = f\"{col.name}_outlier_flag\"\n",
    "    df[flag_col] = mask\n",
    "    outliers = df.loc[mask, [col.name, flag_col]]\n",
    "\n",
    "    result = {\n",
    "        'statement': (f\"\\nOutlier Detection for '{col.name}':\\n\"\n",
    "        f\"----------------------------------\\n\"\n",
    "        f\"Total Outliers Found: {mask.sum()}\\n\\n\"\n",
    "        f\"Outlier Rows:\\n{outliers.to_string(index=False)}\\n\"),\n",
    "        'Number_of_outliers': mask.sum()\n",
    "        }\n",
    "        \n",
    "    \n",
    "    \n",
    "    return result"
   ]
  },
  {
   "cell_type": "code",
   "execution_count": 128,
   "id": "e533f027",
   "metadata": {},
   "outputs": [
    {
     "name": "stdout",
     "output_type": "stream",
     "text": [
      "\n",
      "Outlier Detection for 'height_cm':\n",
      "----------------------------------\n",
      "Total Outliers Found: 3\n",
      "\n",
      "Outlier Rows:\n",
      " height_cm  height_cm_outlier_flag\n",
      "     120.0                    True\n",
      "     230.0                    True\n",
      "     120.0                    True\n",
      "\n",
      "\n",
      "Outlier Detection for 'weight_kg':\n",
      "----------------------------------\n",
      "Total Outliers Found: 6\n",
      "\n",
      "Outlier Rows:\n",
      " weight_kg  weight_kg_outlier_flag\n",
      "     180.0                    True\n",
      "      95.0                    True\n",
      "      31.4                    True\n",
      "       5.0                    True\n",
      "     -10.0                    True\n",
      "     -10.0                    True\n",
      "\n"
     ]
    }
   ],
   "source": [
    "hcm = gradebook['height_cm']\n",
    "wkg = gradebook['weight_kg']\n",
    "\n",
    "print(get_outliers(gradebook,hcm)['statement'])\n",
    "print(get_outliers(gradebook,wkg)['statement'])"
   ]
  },
  {
   "cell_type": "markdown",
   "id": "bc98647a",
   "metadata": {},
   "source": [
    "<div align=\"center\">\n",
    "    <h5 style=\"color:#FFBE0B;\"><b>2. Student-Level Summary (20 marks)</b></h5>\n",
    "</div>\n"
   ]
  },
  {
   "cell_type": "code",
   "execution_count": 129,
   "id": "0a5e70b2",
   "metadata": {},
   "outputs": [
    {
     "name": "stdout",
     "output_type": "stream",
     "text": [
      "    student_id             name   dept  gender  semester section  height_cm  \\\n",
      "59       S0085    Tanzim Biswas    CSE    Male         6       C      169.4   \n",
      "269      S0061    Tamanna Uddin    CSE  Female         8       B      154.2   \n",
      "297      S0118    Sakib Hossain    CSE    male         1       B      164.7   \n",
      "136      S0005       Arif Hasan    STA  Female         5       B      148.9   \n",
      "117      S0244      Anika Molla    STA  Female         3       B      157.5   \n",
      "107      S0267  Raisa Chowdhury  C.S.E    Male         6       B      177.5   \n",
      "277      S0204      Tahia Islam    EEE  Female         2       B      156.9   \n",
      "142      S0280     Sifat Barman    CSE  Female         8       B      148.8   \n",
      "230      S0114   Rafi Chowdhury    CSE   Other         3       D      160.0   \n",
      "49       S0211     Jannat Hasan    MAT    Male         7       A      172.5   \n",
      "\n",
      "     weight_kg  att_T1  att_T2  ...  gender_clean  height_cm_outlier_flag  \\\n",
      "59        72.7       1       1  ...          Male                   False   \n",
      "269       48.3       1       1  ...        Female                   False   \n",
      "297        NaN       0       1  ...          Male                   False   \n",
      "136       64.4       0       1  ...        Female                   False   \n",
      "117       66.0       1       0  ...        Female                   False   \n",
      "107       67.4       1       1  ...          Male                   False   \n",
      "277       45.9       1       0  ...        Female                   False   \n",
      "142       63.9       1       0  ...        Female                   False   \n",
      "230       54.9       1       1  ...         Other                   False   \n",
      "49        74.6       1       0  ...          Male                   False   \n",
      "\n",
      "     weight_kg_outlier_flag  sessions_attended  assignment_submitted  \\\n",
      "59                    False                  6                     7   \n",
      "269                   False                  6                     7   \n",
      "297                   False                  3                     7   \n",
      "136                   False                  5                     7   \n",
      "117                   False                  6                     7   \n",
      "107                   False                  5                     7   \n",
      "277                   False                  3                     7   \n",
      "142                   False                  5                     7   \n",
      "230                   False                  5                     7   \n",
      "49                    False                  5                     7   \n",
      "\n",
      "     total_marks  mean_marks  median_marks  best_mark  worst_mark  \n",
      "59         644.2       92.03          91.8       96.0        85.5  \n",
      "269        639.5       91.36          92.4       94.0        82.9  \n",
      "297        637.8       91.11          91.0       99.5        80.0  \n",
      "136        619.9       88.56          85.1       98.0        83.8  \n",
      "117        611.5       87.36          87.7       95.6        77.1  \n",
      "107        606.4       86.63          86.1       99.0        76.9  \n",
      "277        598.7       85.53          85.7       98.2        67.0  \n",
      "142        596.8       85.26          86.6       98.3        73.6  \n",
      "230        582.1       83.16          81.9       93.7        69.6  \n",
      "49         581.2       83.03          84.0       90.8        64.9  \n",
      "\n",
      "[10 rows x 47 columns]\n"
     ]
    }
   ],
   "source": [
    "#i. Attended Sessions → The total number of sessions a student was present in.\n",
    "att_cols = [c for c in gradebook.columns if c.startswith('att_')]\n",
    "gradebook['sessions_attended'] = gradebook[att_cols].sum(axis=1)\n",
    "\n",
    "#ii. Submitted Count → The total number of assignments the student has submitted.\n",
    "sub_cols = [c for c in gradebook.columns if c.startswith('submitted_')]\n",
    "gradebook['assignment_submitted'] = gradebook[sub_cols].sum(axis=1)\n",
    "\n",
    "#iii. Total Marks → The sum of marks the student has received across all assignments.\n",
    "mark_cols = [c for c in gradebook.columns if c.startswith('marks_')]\n",
    "gradebook['total_marks'] = gradebook[mark_cols].sum(axis=1)\n",
    "\n",
    "#iv. Mean Marks (Average) → The average of the student’s marks across assignments.\n",
    "gradebook['mean_marks'] = gradebook[mark_cols].mean(axis=1).round(2)\n",
    "\n",
    "#v. Median Marks → The middle value of the student’s marks.\n",
    "gradebook['median_marks'] = gradebook[mark_cols].median(axis=1).round(2)\n",
    "\n",
    "#vi. Best Mark → The highest mark the student got in any assignment.\n",
    "gradebook['best_mark'] = gradebook[mark_cols].max(axis=1)\n",
    "\n",
    "#vii. Worst Mark → The lowest mark the student got in any assignment.\n",
    "gradebook['worst_mark'] = gradebook[mark_cols].min(axis=1)\n",
    "\n",
    "#=====================================================#\n",
    "\n",
    "#viii. Display the top 10 students by total_marks.\n",
    "\n",
    "top_students = gradebook.sort_values(by='total_marks',ascending=False)\n",
    "print(top_students.head(10))"
   ]
  },
  {
   "cell_type": "markdown",
   "id": "b186789e",
   "metadata": {},
   "source": [
    "<div align=\"center\">\n",
    "    <h5 style=\"color:#FFBE0B;\"><b>3. Assignment-Level Analysis (20 marks)</b></h5>\n",
    "</div>\n"
   ]
  },
  {
   "cell_type": "code",
   "execution_count": 130,
   "id": "982f2dca",
   "metadata": {},
   "outputs": [
    {
     "name": "stdout",
     "output_type": "stream",
     "text": [
      "     Assignment  Total_submissions\n",
      "1  submitted_A1                236\n",
      "2  submitted_A2                252\n",
      "3  submitted_A3                246\n",
      "4  submitted_A4                253\n",
      "5  submitted_A5                249\n",
      "6  submitted_A6                250\n",
      "7  submitted_A7                242\n"
     ]
    }
   ],
   "source": [
    "#i. Number Submitted → How many students submitted that assignment (i.e., non-missing marks).\n",
    "\n",
    "sub_df = pd.DataFrame({\n",
    "    'Assignment' : sub_cols,\n",
    "    'Total_submissions': gradebook[sub_cols].sum().values\n",
    "},index=np.arange(1,8))\n",
    "\n",
    "#ii. Median Mark → The middle value of marks.\n",
    "median_marks = gradebook[mark_cols].median()\n",
    "#iii. Standard Deviation (std)\n",
    "std_marks = gradebook[mark_cols].std()\n",
    "\n",
    "print(sub_df)"
   ]
  },
  {
   "cell_type": "code",
   "execution_count": 131,
   "id": "572a13ce",
   "metadata": {},
   "outputs": [
    {
     "name": "stdout",
     "output_type": "stream",
     "text": [
      "[np.int64(0), np.int64(0), np.int64(0), np.int64(1), np.int64(1), np.int64(1), np.int64(2)]\n"
     ]
    }
   ],
   "source": [
    "#iv. Outlier Count\n",
    "outlier_quantity = []\n",
    "for mark_col in mark_cols:\n",
    "    n = get_outliers(gradebook,gradebook[mark_col])['Number_of_outliers']\n",
    "    outlier_quantity.append(n)\n",
    "\n",
    "print(outlier_quantity)"
   ]
  },
  {
   "cell_type": "code",
   "execution_count": 133,
   "id": "eb533430",
   "metadata": {},
   "outputs": [
    {
     "name": "stdout",
     "output_type": "stream",
     "text": [
      "     Assignment  Total_submissions  median_mark  std_marks  Outlier Count  \\\n",
      "1  submitted_A1                236         70.2  12.517567              0   \n",
      "2  submitted_A2                252         70.0  12.078825              0   \n",
      "3  submitted_A3                246         70.6  12.630838              0   \n",
      "4  submitted_A4                253         71.0  11.817052              1   \n",
      "5  submitted_A5                249         72.0  12.597348              1   \n",
      "6  submitted_A6                250         70.1  13.167127              1   \n",
      "7  submitted_A7                242         70.0  12.530949              2   \n",
      "\n",
      "   Highest Mark  Lowest Mark  \n",
      "1          98.4         44.9  \n",
      "2          97.2         37.4  \n",
      "3          99.5         43.7  \n",
      "4          98.3         36.8  \n",
      "5          98.4         33.5  \n",
      "6          99.0         26.4  \n",
      "7          99.0         -8.1  \n"
     ]
    }
   ],
   "source": [
    "##=======CREATE FINAL TABLE=========##\n",
    "\n",
    "sub_df['median_mark'] = median_marks.values\n",
    "sub_df['std_marks'] = std_marks.values\n",
    "sub_df['Outlier Count'] = outlier_quantity\n",
    "sub_df['Highest Mark'] = gradebook[mark_cols].max().values\n",
    "sub_df['Lowest Mark'] = gradebook[mark_cols].min().values\n",
    "print(sub_df)\n"
   ]
  },
  {
   "cell_type": "code",
   "execution_count": 134,
   "id": "7f8ae464",
   "metadata": {},
   "outputs": [
    {
     "name": "stdout",
     "output_type": "stream",
     "text": [
      "Hardest Assignment: submitted_A2\n",
      "Assignment           submitted_A2\n",
      "Total_submissions             252\n",
      "median_mark                  70.0\n",
      "std_marks               12.078825\n",
      "Outlier Count                   0\n",
      "Highest Mark                 97.2\n",
      "Lowest Mark                  37.4\n",
      "Name: 2, dtype: object\n",
      "\n",
      "#======================================#\n",
      "\n",
      "Most Variable Assignment: submitted_A6\n",
      "Assignment           submitted_A6\n",
      "Total_submissions             250\n",
      "median_mark                  70.1\n",
      "std_marks               13.167127\n",
      "Outlier Count                   1\n",
      "Highest Mark                 99.0\n",
      "Lowest Mark                  26.4\n",
      "Name: 6, dtype: object\n"
     ]
    }
   ],
   "source": [
    "# (a)\n",
    "hardest = sub_df.loc[sub_df['median_mark'].idxmin()]\n",
    "print(\"Hardest Assignment:\", hardest['Assignment'])\n",
    "print(hardest)\n",
    "print('\\n#======================================#\\n')\n",
    "most_variable = sub_df.loc[sub_df['std_marks'].idxmax()]\n",
    "print(\"Most Variable Assignment:\", most_variable['Assignment'])\n",
    "print(most_variable)\n"
   ]
  },
  {
   "cell_type": "markdown",
   "id": "31af7546",
   "metadata": {},
   "source": [
    "<div align=\"center\">\n",
    "    <h5 style=\"color:#FFBE0B;\"><b>4. Visuals (20 marks)</b></h5>\n",
    "</div>\n"
   ]
  },
  {
   "cell_type": "code",
   "execution_count": 110,
   "id": "de1d225c",
   "metadata": {},
   "outputs": [
    {
     "data": {
      "text/plain": [
       "Text(0.5, 1.0, 'Histogram of All Marks (Stacked from All Assignments)')"
      ]
     },
     "execution_count": 110,
     "metadata": {},
     "output_type": "execute_result"
    },
    {
     "data": {
      "image/png": "[encoded data removed]",
      "text/plain": [
       "<Figure size 640x480 with 1 Axes>"
      ]
     },
     "metadata": {},
     "output_type": "display_data"
    }
   ],
   "source": [
    "#i. Histogram of all marks (stacked from all assignments).\n",
    "\n",
    "import matplotlib.pyplot as plt \n",
    "gradebook[mark_cols].plot.hist(stacked=True, bins=20, alpha=0.7)\n",
    "plt.title('Histogram of All Marks (Stacked from All Assignments)')"
   ]
  },
  {
   "cell_type": "code",
   "execution_count": 113,
   "id": "ad13ad6f",
   "metadata": {},
   "outputs": [
    {
     "data": {
      "text/plain": [
       "Text(0.5, 1.0, 'Boxplot of Marks by Assignment')"
      ]
     },
     "execution_count": 113,
     "metadata": {},
     "output_type": "execute_result"
    },
    {
     "data": {
      "image/png": "[encoded data removed]",
      "text/plain": [
       "<Figure size 640x480 with 1 Axes>"
      ]
     },
     "metadata": {},
     "output_type": "display_data"
    }
   ],
   "source": [
    "#ii. Boxplot of marks by assignment.\n",
    "\n",
    "gradebook[mark_cols].plot.box()\n",
    "plt.title('Boxplot of Marks by Assignment')\n"
   ]
  },
  {
   "cell_type": "code",
   "execution_count": 114,
   "id": "a18c3301",
   "metadata": {},
   "outputs": [
    {
     "data": {
      "text/plain": [
       "<Axes: >"
      ]
     },
     "execution_count": 114,
     "metadata": {},
     "output_type": "execute_result"
    },
    {
     "data": {
      "image/png": "[encoded data removed]",
      "text/plain": [
       "<Figure size 640x480 with 2 Axes>"
      ]
     },
     "metadata": {},
     "output_type": "display_data"
    }
   ],
   "source": [
    "#iii. Correlation heatmap of marks\n",
    "import seaborn as sns\n",
    "sns.heatmap(gradebook[mark_cols].corr(), annot=True, cmap='coolwarm')   "
   ]
  },
  {
   "cell_type": "markdown",
   "id": "2a900131",
   "metadata": {},
   "source": [
    "<div align=\"center\">\n",
    "    <h5 style=\"color:#FFBE0B;\"><b>5. Group Comparison (15 marks)</b></h5>\n",
    "</div>\n"
   ]
  },
  {
   "cell_type": "code",
   "execution_count": 122,
   "id": "57c0168d",
   "metadata": {},
   "outputs": [
    {
     "data": {
      "text/html": [
       "<div>\n",
       "<style scoped>\n",
       "    .dataframe tbody tr th:only-of-type {\n",
       "        vertical-align: middle;\n",
       "    }\n",
       "\n",
       "    .dataframe tbody tr th {\n",
       "        vertical-align: top;\n",
       "    }\n",
       "\n",
       "    .dataframe thead th {\n",
       "        text-align: right;\n",
       "    }\n",
       "</style>\n",
       "<table border=\"1\" class=\"dataframe\">\n",
       "  <thead>\n",
       "    <tr style=\"text-align: right;\">\n",
       "      <th></th>\n",
       "      <th></th>\n",
       "      <th>mean_marks</th>\n",
       "      <th>total_marks</th>\n",
       "    </tr>\n",
       "    <tr>\n",
       "      <th>dept_clean</th>\n",
       "      <th>section</th>\n",
       "      <th></th>\n",
       "      <th></th>\n",
       "    </tr>\n",
       "  </thead>\n",
       "  <tbody>\n",
       "    <tr>\n",
       "      <th rowspan=\"4\" valign=\"top\">CSE</th>\n",
       "      <th>A</th>\n",
       "      <td>68.51</td>\n",
       "      <td>12943.7</td>\n",
       "    </tr>\n",
       "    <tr>\n",
       "      <th>B</th>\n",
       "      <td>72.50</td>\n",
       "      <td>17222.0</td>\n",
       "    </tr>\n",
       "    <tr>\n",
       "      <th>C</th>\n",
       "      <td>69.01</td>\n",
       "      <td>13948.8</td>\n",
       "    </tr>\n",
       "    <tr>\n",
       "      <th>D</th>\n",
       "      <td>71.56</td>\n",
       "      <td>7322.9</td>\n",
       "    </tr>\n",
       "    <tr>\n",
       "      <th rowspan=\"4\" valign=\"top\">EEE</th>\n",
       "      <th>A</th>\n",
       "      <td>70.68</td>\n",
       "      <td>8046.5</td>\n",
       "    </tr>\n",
       "    <tr>\n",
       "      <th>B</th>\n",
       "      <td>70.44</td>\n",
       "      <td>8425.3</td>\n",
       "    </tr>\n",
       "    <tr>\n",
       "      <th>C</th>\n",
       "      <td>72.04</td>\n",
       "      <td>5686.8</td>\n",
       "    </tr>\n",
       "    <tr>\n",
       "      <th>D</th>\n",
       "      <td>69.45</td>\n",
       "      <td>3778.7</td>\n",
       "    </tr>\n",
       "    <tr>\n",
       "      <th rowspan=\"4\" valign=\"top\">IPE</th>\n",
       "      <th>A</th>\n",
       "      <td>68.88</td>\n",
       "      <td>1717.6</td>\n",
       "    </tr>\n",
       "    <tr>\n",
       "      <th>B</th>\n",
       "      <td>74.46</td>\n",
       "      <td>1422.2</td>\n",
       "    </tr>\n",
       "    <tr>\n",
       "      <th>C</th>\n",
       "      <td>65.88</td>\n",
       "      <td>1323.3</td>\n",
       "    </tr>\n",
       "    <tr>\n",
       "      <th>D</th>\n",
       "      <td>71.58</td>\n",
       "      <td>1171.3</td>\n",
       "    </tr>\n",
       "    <tr>\n",
       "      <th rowspan=\"4\" valign=\"top\">MAT</th>\n",
       "      <th>A</th>\n",
       "      <td>67.39</td>\n",
       "      <td>2948.1</td>\n",
       "    </tr>\n",
       "    <tr>\n",
       "      <th>B</th>\n",
       "      <td>70.52</td>\n",
       "      <td>1406.5</td>\n",
       "    </tr>\n",
       "    <tr>\n",
       "      <th>C</th>\n",
       "      <td>72.81</td>\n",
       "      <td>1828.7</td>\n",
       "    </tr>\n",
       "    <tr>\n",
       "      <th>D</th>\n",
       "      <td>61.66</td>\n",
       "      <td>1540.7</td>\n",
       "    </tr>\n",
       "    <tr>\n",
       "      <th rowspan=\"4\" valign=\"top\">MEE</th>\n",
       "      <th>A</th>\n",
       "      <td>77.39</td>\n",
       "      <td>1138.8</td>\n",
       "    </tr>\n",
       "    <tr>\n",
       "      <th>B</th>\n",
       "      <td>72.93</td>\n",
       "      <td>1540.8</td>\n",
       "    </tr>\n",
       "    <tr>\n",
       "      <th>C</th>\n",
       "      <td>64.88</td>\n",
       "      <td>705.6</td>\n",
       "    </tr>\n",
       "    <tr>\n",
       "      <th>D</th>\n",
       "      <td>69.77</td>\n",
       "      <td>1814.0</td>\n",
       "    </tr>\n",
       "    <tr>\n",
       "      <th rowspan=\"4\" valign=\"top\">PHY</th>\n",
       "      <th>A</th>\n",
       "      <td>65.44</td>\n",
       "      <td>2082.8</td>\n",
       "    </tr>\n",
       "    <tr>\n",
       "      <th>B</th>\n",
       "      <td>69.70</td>\n",
       "      <td>2380.8</td>\n",
       "    </tr>\n",
       "    <tr>\n",
       "      <th>C</th>\n",
       "      <td>64.69</td>\n",
       "      <td>1376.8</td>\n",
       "    </tr>\n",
       "    <tr>\n",
       "      <th>D</th>\n",
       "      <td>67.96</td>\n",
       "      <td>1980.8</td>\n",
       "    </tr>\n",
       "    <tr>\n",
       "      <th rowspan=\"4\" valign=\"top\">STA</th>\n",
       "      <th>A</th>\n",
       "      <td>67.92</td>\n",
       "      <td>2377.8</td>\n",
       "    </tr>\n",
       "    <tr>\n",
       "      <th>B</th>\n",
       "      <td>72.46</td>\n",
       "      <td>5281.0</td>\n",
       "    </tr>\n",
       "    <tr>\n",
       "      <th>C</th>\n",
       "      <td>74.68</td>\n",
       "      <td>2692.0</td>\n",
       "    </tr>\n",
       "    <tr>\n",
       "      <th>D</th>\n",
       "      <td>81.97</td>\n",
       "      <td>974.9</td>\n",
       "    </tr>\n",
       "    <tr>\n",
       "      <th rowspan=\"4\" valign=\"top\">SWE</th>\n",
       "      <th>A</th>\n",
       "      <td>70.79</td>\n",
       "      <td>1774.6</td>\n",
       "    </tr>\n",
       "    <tr>\n",
       "      <th>B</th>\n",
       "      <td>70.08</td>\n",
       "      <td>2313.9</td>\n",
       "    </tr>\n",
       "    <tr>\n",
       "      <th>C</th>\n",
       "      <td>66.65</td>\n",
       "      <td>669.9</td>\n",
       "    </tr>\n",
       "    <tr>\n",
       "      <th>D</th>\n",
       "      <td>65.48</td>\n",
       "      <td>1051.0</td>\n",
       "    </tr>\n",
       "  </tbody>\n",
       "</table>\n",
       "</div>"
      ],
      "text/plain": [
       "                    mean_marks  total_marks\n",
       "dept_clean section                         \n",
       "CSE        A             68.51      12943.7\n",
       "           B             72.50      17222.0\n",
       "           C             69.01      13948.8\n",
       "           D             71.56       7322.9\n",
       "EEE        A             70.68       8046.5\n",
       "           B             70.44       8425.3\n",
       "           C             72.04       5686.8\n",
       "           D             69.45       3778.7\n",
       "IPE        A             68.88       1717.6\n",
       "           B             74.46       1422.2\n",
       "           C             65.88       1323.3\n",
       "           D             71.58       1171.3\n",
       "MAT        A             67.39       2948.1\n",
       "           B             70.52       1406.5\n",
       "           C             72.81       1828.7\n",
       "           D             61.66       1540.7\n",
       "MEE        A             77.39       1138.8\n",
       "           B             72.93       1540.8\n",
       "           C             64.88        705.6\n",
       "           D             69.77       1814.0\n",
       "PHY        A             65.44       2082.8\n",
       "           B             69.70       2380.8\n",
       "           C             64.69       1376.8\n",
       "           D             67.96       1980.8\n",
       "STA        A             67.92       2377.8\n",
       "           B             72.46       5281.0\n",
       "           C             74.68       2692.0\n",
       "           D             81.97        974.9\n",
       "SWE        A             70.79       1774.6\n",
       "           B             70.08       2313.9\n",
       "           C             66.65        669.9\n",
       "           D             65.48       1051.0"
      ]
     },
     "execution_count": 122,
     "metadata": {},
     "output_type": "execute_result"
    }
   ],
   "source": [
    "#1.Pivot table: mean marks (average across assignments per student) and total marks (sum across assignments per student) by dept × section.\n",
    "pivot_table = pd.pivot_table(\n",
    "    gradebook,\n",
    "    values=['mean_marks', 'total_marks'],\n",
    "    index=['dept_clean', 'section'],\n",
    "    aggfunc={'mean_marks': 'mean', 'total_marks': 'sum'},\n",
    "    fill_value=0\n",
    ").round(2)\n",
    "pivot_table"
   ]
  },
  {
   "cell_type": "code",
   "execution_count": 119,
   "id": "772e5c30",
   "metadata": {},
   "outputs": [
    {
     "data": {
      "text/html": [
       "<div>\n",
       "<style scoped>\n",
       "    .dataframe tbody tr th:only-of-type {\n",
       "        vertical-align: middle;\n",
       "    }\n",
       "\n",
       "    .dataframe tbody tr th {\n",
       "        vertical-align: top;\n",
       "    }\n",
       "\n",
       "    .dataframe thead th {\n",
       "        text-align: right;\n",
       "    }\n",
       "</style>\n",
       "<table border=\"1\" class=\"dataframe\">\n",
       "  <thead>\n",
       "    <tr style=\"text-align: right;\">\n",
       "      <th></th>\n",
       "      <th></th>\n",
       "      <th>mean_marks</th>\n",
       "      <th>total_marks</th>\n",
       "    </tr>\n",
       "    <tr>\n",
       "      <th>dept_clean</th>\n",
       "      <th>section</th>\n",
       "      <th></th>\n",
       "      <th></th>\n",
       "    </tr>\n",
       "  </thead>\n",
       "  <tbody>\n",
       "    <tr>\n",
       "      <th>CSE</th>\n",
       "      <th>B</th>\n",
       "      <td>72.5</td>\n",
       "      <td>17222.0</td>\n",
       "    </tr>\n",
       "  </tbody>\n",
       "</table>\n",
       "</div>"
      ],
      "text/plain": [
       "                    mean_marks  total_marks\n",
       "dept_clean section                         \n",
       "CSE        B              72.5      17222.0"
      ]
     },
     "execution_count": 119,
     "metadata": {},
     "output_type": "execute_result"
    }
   ],
   "source": [
    "#ii. Report the cell with the highest total_marks.\n",
    "max_total_marks = pivot_table['total_marks'].max()\n",
    "highest_cell = pivot_table[pivot_table['total_marks'] == max_total_marks]\n",
    "highest_cell"
   ]
  },
  {
   "cell_type": "markdown",
   "id": "c49137d7",
   "metadata": {},
   "source": [
    "<div align=\"center\">\n",
    "    <h5 style=\"color:#FFBE0B;\"><b>6. Export &amp; Insights (10 marks)</b></h5>\n",
    "</div>\n"
   ]
  },
  {
   "cell_type": "code",
   "execution_count": 135,
   "id": "deb83bbf",
   "metadata": {},
   "outputs": [],
   "source": [
    "#i. Save final_gradebook.csv with cleaned + summary columns (Include all the new summary columns you created in your final_gradebook.csv).\n",
    "gradebook.to_csv('final_gradebook.csv', index=False)"
   ]
  }
 ],
 "metadata": {
  "kernelspec": {
   "display_name": "Python (venv)",
   "language": "python",
   "name": "venv"
  },
  "language_info": {
   "codemirror_mode": {
    "name": "ipython",
    "version": 3
   },
   "file_extension": ".py",
   "mimetype": "text/x-python",
   "name": "python",
   "nbconvert_exporter": "python",
   "pygments_lexer": "ipython3",
   "version": "3.13.3"
  }
 },
 "nbformat": 4,
 "nbformat_minor": 5
}
