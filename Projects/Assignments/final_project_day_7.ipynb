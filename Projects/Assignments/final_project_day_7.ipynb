{
 "cells": [
  {
   "cell_type": "markdown",
   "id": "2cd6a953",
   "metadata": {},
   "source": [
    "<div align=\"center\">\n",
    "\n",
    "<h3 style=\"color:#3A86FF;\">📊 PyNext Final Assignment — EDA & Insights</h3>\n",
    "<h5 style=\"color:#FF006E;\">Submitted by: <b>Ishat Noor Mahi</b></h5>\n",
    "<h6 style=\"color:#8338EC;\">ID: <b>Mahi-3006</b></h6>\n",
    "<h6 style=\"color:#FB5607;\">Dept: <b>STATISTICS | 2024-2025</b></h6>\n",
    "\n",
    "</div>\n"
   ]
  },
  {
   "cell_type": "markdown",
   "id": "38f2a7d9",
   "metadata": {},
   "source": [
    "<div align=\"center\">\n",
    "    <h5 style=\"color:#FFBE0B;\"><b>1. Data Audit &amp; Cleaning (15 marks)</b></h5>\n",
    "</div>\n"
   ]
  },
  {
   "cell_type": "code",
   "execution_count": 1,
   "id": "9f32629f",
   "metadata": {},
   "outputs": [],
   "source": [
    "import numpy as np\n",
    "import pandas as pd"
   ]
  },
  {
   "cell_type": "code",
   "execution_count": 69,
   "id": "b9895026",
   "metadata": {},
   "outputs": [
    {
     "name": "stdout",
     "output_type": "stream",
     "text": [
      "(306, 36)\n",
      "300\n",
      "(300, 36)\n"
     ]
    }
   ],
   "source": [
    "#i. Load the dataset; print rows × columns and check student_id uniqueness.\n",
    "path = 'C:/Users/DELL/PyNext/Datasets/pynext_simple_gradebook - pynext_simple_gradebook.csv' \n",
    "gradebook = pd.read_csv(path)\n",
    "\n",
    "print(gradebook.shape)\n",
    "#print(gradebook.columns) #to get the column names correctly\n",
    "\n",
    "print(gradebook['student_id'].nunique())\n",
    "\n",
    "gradebook.drop_duplicates(subset=['student_id'],keep='first',inplace=True)\n",
    "\n",
    "print(gradebook.shape)"
   ]
  },
  {
   "cell_type": "code",
   "execution_count": null,
   "id": "86992e92",
   "metadata": {},
   "outputs": [],
   "source": [
    "#ii. Show dtypes and % missing for each column.\n",
    "info_df = pd.DataFrame(\n",
    "    {\n",
    "        'Column' : gradebook.columns,\n",
    "        'Data_type': gradebook.dtypes.values,\n",
    "        '%Missing_Value': ((gradebook.isna().sum()/len(gradebook)).round(4)*100).values\n",
    "    },index=np.arange(1,len(gradebook.columns)+1)\n",
    ")\n",
    "print(info_df)\n",
    "print(len(gradebook))"
   ]
  },
  {
   "cell_type": "code",
   "execution_count": null,
   "id": "3d8fdb14",
   "metadata": {},
   "outputs": [],
   "source": [
    "#iii. Normalize dept and gender to clean categories.\n",
    "\n",
    "gradebook.groupby('dept')['dept'].count()\n",
    "\n",
    "def normalize_dept(x):\n",
    "    x = x.astype(str)\n",
    "    x = str.lower().str.strip()\n",
    "\n",
    "    mapping = {\n",
    "        'c.s.e':'CSE','cse':'CSE',\n",
    "        'e.e.e':'EEE','eleceng':'EEE','eee':'EEE',\n",
    "        'ipe':'IPE',\n",
    "        'mat':'MAT','mathematics':'MAT',\n",
    "        'mee':'MEE',\n",
    "        'phy':'PHY','physics':'PHY',\n",
    "        'sta':'STA','statistics':'STA',\n",
    "        'swe':'SWE','softwareeng':'SWE',      \n",
    "    }\n",
    "\n",
    "    return x.replace(mapping).str.upper()\n",
    "\n",
    "gradebook['dept_clean'] = normalize_dept(gradebook['dept'])\n",
    "\n",
    "print(gradebook.groupby('dept_clean')['student_id'].count())\n"
   ]
  },
  {
   "cell_type": "code",
   "execution_count": null,
   "id": "a70a59c3",
   "metadata": {},
   "outputs": [],
   "source": [
    "#iii. Normalize dept and gender to clean categories.\n",
    "\n",
    "\n",
    "def normalize_gender(x):\n",
    "\n",
    "    x = x.astype(str)\n",
    "    x = x.str.strip().str.lower()\n",
    "\n",
    "    mapping = {\n",
    "        'f':'Female','female':'Female',\n",
    "        \"m\":'Male', 'male':'Male',\n",
    "        'other':'Other'\n",
    "    }\n",
    "\n",
    "    return x.replace(mapping)\n",
    "\n",
    "gradebook['gender_clean'] = normalize_gender(gradebook['gender'])\n",
    "\n",
    "gradebook.groupby('gender_clean')['student_id'].count()\n"
   ]
  },
  {
   "cell_type": "code",
   "execution_count": 67,
   "id": "837136fb",
   "metadata": {},
   "outputs": [],
   "source": [
    "#iv. Detect outliers in height_cm and weight_kg using IQR; flag them.\n",
    "\n",
    "def get_outliers(df,col):\n",
    "\n",
    "    Q1 = col.quantile(0.25)\n",
    "    Q3 = col.quantile(0.75)\n",
    "\n",
    "    IQR = Q3 - Q1\n",
    "\n",
    "    upper_bound = Q3 + 1.5*IQR\n",
    "    lower_bound = Q1 - 1.5*IQR\n",
    "\n",
    "    mask = (col<lower_bound) | (col>upper_bound)\n",
    "    flag_col = f\"{col.name}_outlier_flag\"\n",
    "    df[flag_col] = mask\n",
    "    outliers = df.loc[mask, [col.name, flag_col]]\n",
    "\n",
    "    result = (\n",
    "        f\"\\nOutlier Detection for '{col.name}':\\n\"\n",
    "        f\"----------------------------------\\n\"\n",
    "        f\"Total Outliers Found: {mask.sum()}\\n\\n\"\n",
    "        f\"Outlier Rows:\\n{outliers.to_string(index=False)}\\n\"\n",
    "    )\n",
    "    \n",
    "    return result"
   ]
  },
  {
   "cell_type": "code",
   "execution_count": null,
   "id": "e533f027",
   "metadata": {},
   "outputs": [],
   "source": [
    "hcm = gradebook['height_cm']\n",
    "wkg = gradebook['weight_kg']\n",
    "\n",
    "print(get_outliers(gradebook,hcm))\n",
    "print(get_outliers(gradebook,wkg))"
   ]
  },
  {
   "cell_type": "markdown",
   "id": "bc98647a",
   "metadata": {},
   "source": [
    "<div align=\"center\">\n",
    "    <h5 style=\"color:#FFBE0B;\"><b>12. Student-Level Summary (20 marks)</b></h5>\n",
    "</div>\n"
   ]
  },
  {
   "cell_type": "code",
   "execution_count": null,
   "id": "0a5e70b2",
   "metadata": {},
   "outputs": [],
   "source": [
    "#i. Attended Sessions → The total number of sessions a student was present in.\n"
   ]
  }
 ],
 "metadata": {
  "kernelspec": {
   "display_name": "Python (venv)",
   "language": "python",
   "name": "venv"
  },
  "language_info": {
   "codemirror_mode": {
    "name": "ipython",
    "version": 3
   },
   "file_extension": ".py",
   "mimetype": "text/x-python",
   "name": "python",
   "nbconvert_exporter": "python",
   "pygments_lexer": "ipython3",
   "version": "3.13.3"
  }
 },
 "nbformat": 4,
 "nbformat_minor": 5
}
