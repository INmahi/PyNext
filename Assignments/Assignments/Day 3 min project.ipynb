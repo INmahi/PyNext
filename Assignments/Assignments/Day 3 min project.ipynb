{
 "cells": [
  {
   "cell_type": "markdown",
   "id": "ce9b6f9a-45db-4dd7-b9d7-49f93ed4bf22",
   "metadata": {},
   "source": [
    "<!-- Day 3 Mini Project: NUMPY -->\n",
    "\n",
    "<h3 style=\"color:#c06d15; font-weight:bold;\">Day 3 Mini Project: <span style=\"color:#43a047;\">NUMPY</span></h3>\n",
    "\n",
    "<h4 style=\"color:#d84315; font-weight:bold;\">\n",
    "    📝 Done by: <span style=\"color:#6a1b9a;\">Ishat Noor Mahi</span>\n",
    "</h4>\n",
    "<p style=\"color:#00838f; font-weight:bold; font-size:1.1em;\">\n",
    "    <b>Statistics 1/1</b><br>\n",
    "    <b>ID:</b> <code style=\"color:#c62828;\">Mahi-3006</code>\n",
    "</p>\n",
    "\n",
    "<p>\n",
    "    📄 <a href=\"https://docs.google.com/document/d/1Aan31bwy9JynXsOPraWIzrOPl09w_nak68c5ex8MHks/edit?tab=t.0\" style=\"color:#1565c0; font-weight:bold;\">Project Documentation Link</a>\n",
    "</p>\n",
    "\n",
    "<hr>\n",
    "\n",
    "<blockquote style=\"border-left:4px solid #43a047; padding-left:10px; color:#333;\">\n",
    "    Assigned: 23/08/2025\n",
    "</blockquote>\n"
   ]
  },
  {
   "cell_type": "code",
   "execution_count": null,
   "id": "684fc046-f026-416c-b4fb-9844dcfb1c06",
   "metadata": {},
   "outputs": [],
   "source": [
    "import numpy as np"
   ]
  },
  {
   "cell_type": "code",
   "execution_count": 17,
   "id": "1ec553db-3f6e-4a8e-a0c6-49ea9c39ebed",
   "metadata": {},
   "outputs": [
    {
     "name": "stdout",
     "output_type": "stream",
     "text": [
      "[27.59230828  9.69743447 37.38824933 56.08310912 56.48946811]\n",
      "[92.01798394 43.08247843 76.03157853 48.72806418 93.65518883]\n"
     ]
    }
   ],
   "source": [
    "# 1) Creating 2 arrays with 5 elements, contaiing numbers between 0 to 100 \n",
    "arr1 = np.random.uniform(0,100,5).astype(float)\n",
    "arr2 = np.random.uniform(0,100,5).astype(float)\n",
    "print(arr1)\n",
    "print(arr2)"
   ]
  },
  {
   "cell_type": "code",
   "execution_count": 31,
   "id": "e442573b-ce4a-4952-871d-f93852619e31",
   "metadata": {},
   "outputs": [
    {
     "name": "stdout",
     "output_type": "stream",
     "text": [
      "Sum:  187.25056932178794\n",
      "Mean:  37.45011386435759\n",
      "Maximum:  56.4894681081032\n",
      "Minimum:  9.697434474262067\n",
      "Standard deviation:  17.759937464746\n"
     ]
    }
   ],
   "source": [
    "# 2)\n",
    "# i.Perform  Basic Caluclations\n",
    "print(\"Sum: \",arr1.sum())\n",
    "print(\"Mean: \",arr1.mean())\n",
    "print(\"Maximum: \",arr1.max())\n",
    "print(\"Minimum: \",arr1.min())\n",
    "print(\"Standard deviation: \",arr1.std())"
   ]
  },
  {
   "cell_type": "code",
   "execution_count": 25,
   "id": "49545a43-0ccd-4dfd-9e79-abbf0046cfb4",
   "metadata": {},
   "outputs": [
    {
     "name": "stdout",
     "output_type": "stream",
     "text": [
      "shape:  (5,)\n",
      "shape:  (5,)\n",
      "shape:  (5,)\n",
      "Data Type:  float64\n"
     ]
    }
   ],
   "source": [
    "# ii.Explore array properties:\n",
    "print(\"shape: \",arr1.shape)\n",
    "print(\"shape: \",arr1.shape)\n",
    "print(\"shape: \",arr1.shape)\n",
    "print(\"Data Type: \",arr1.dtype)"
   ]
  },
  {
   "cell_type": "code",
   "execution_count": 50,
   "id": "4e967a35-2026-4f61-93d5-80e42f160c21",
   "metadata": {},
   "outputs": [
    {
     "name": "stdout",
     "output_type": "stream",
     "text": [
      "[[27.59230828]\n",
      " [ 9.69743447]\n",
      " [37.38824933]\n",
      " [56.08310912]\n",
      " [56.48946811]]\n"
     ]
    }
   ],
   "source": [
    "# iii.Reshape the array and display it.\n",
    "new_arr1 = arr1.reshape(5,1)\n",
    "print(new_arr1)"
   ]
  },
  {
   "cell_type": "code",
   "execution_count": 37,
   "id": "201b4cdb-42bc-42c2-932b-1192710354dd",
   "metadata": {},
   "outputs": [
    {
     "name": "stdout",
     "output_type": "stream",
     "text": [
      "[9.69743447]\n",
      "[[37.38824933]\n",
      " [56.08310912]]\n"
     ]
    }
   ],
   "source": [
    "# iv. Indexing & Slicing\n",
    "print(new_arr1[1])\n",
    "\n",
    "print(new_arr1[2:4])"
   ]
  },
  {
   "cell_type": "code",
   "execution_count": 49,
   "id": "58d80303-fbac-43a8-8b6c-41fa5934f376",
   "metadata": {},
   "outputs": [
    {
     "name": "stdout",
     "output_type": "stream",
     "text": [
      "Addition: [119.61029223  52.7799129  113.41982786 104.81117331 150.14465693]\n",
      "Subtraction: [-64.42567566 -33.38504396 -38.6433292    7.35504494 -37.16572072]\n"
     ]
    }
   ],
   "source": [
    "# 3) Perform 2 basic arithmetic operations between the first and second array\n",
    "\n",
    "print(\"Addition:\", arr1 + arr2)\n",
    "print(\"Subtraction:\", arr1- arr2)"
   ]
  }
 ],
 "metadata": {
  "kernelspec": {
   "display_name": "Python (venv)",
   "language": "python",
   "name": "venv"
  },
  "language_info": {
   "codemirror_mode": {
    "name": "ipython",
    "version": 3
   },
   "file_extension": ".py",
   "mimetype": "text/x-python",
   "name": "python",
   "nbconvert_exporter": "python",
   "pygments_lexer": "ipython3",
   "version": "3.13.3"
  }
 },
 "nbformat": 4,
 "nbformat_minor": 5
}
