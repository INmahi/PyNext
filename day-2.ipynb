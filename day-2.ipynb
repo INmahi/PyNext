{
 "cells": [
  {
   "cell_type": "markdown",
   "id": "2213ef4c-84ec-49bf-8d54-8726741a5384",
   "metadata": {},
   "source": [
    "# Loop"
   ]
  },
  {
   "cell_type": "markdown",
   "id": "4558559b-bf96-4504-977f-4609547f724f",
   "metadata": {},
   "source": [
    "## while loop"
   ]
  },
  {
   "cell_type": "code",
   "execution_count": 4,
   "id": "d5a80ad5-34e5-4680-84d1-bc23d1ec2b8d",
   "metadata": {},
   "outputs": [
    {
     "name": "stdout",
     "output_type": "stream",
     "text": [
      "1\n",
      "2\n",
      "3\n",
      "4\n",
      "5\n",
      "6\n",
      "7\n",
      "8\n",
      "9\n",
      "10\n"
     ]
    }
   ],
   "source": [
    "num  = 1\n",
    "while num<=10:\n",
    "    print(num)\n",
    "    num+=1"
   ]
  },
  {
   "cell_type": "code",
   "execution_count": null,
   "id": "9f7d0b33-a576-4ed3-8d2a-7d08179ae170",
   "metadata": {},
   "outputs": [],
   "source": [
    "target = 500\n",
    "donation = 0\n",
    "while donation < target:\n",
    "    donate_amount = float(input(\"Enter amount: \"))  \n",
    "    donation = donation + donate_amount\n",
    "    print(f\"Your Donation: {donate_amount}\")\n",
    "    print(f\"Total Donation: {donation}\")\n",
    "    \n"
   ]
  },
  {
   "cell_type": "markdown",
   "id": "9d795d2c-8873-4560-9e4a-41b000f6caf9",
   "metadata": {},
   "source": [
    "## For Loop\n"
   ]
  },
  {
   "cell_type": "code",
   "execution_count": 13,
   "id": "532407fd-2a40-453e-9bf7-0b39c9a7855a",
   "metadata": {},
   "outputs": [
    {
     "name": "stdout",
     "output_type": "stream",
     "text": [
      "0\n",
      "1\n",
      "2\n",
      "3\n",
      "4\n",
      "5\n",
      "6\n"
     ]
    }
   ],
   "source": [
    "for num in range(7):\n",
    "    print(num)"
   ]
  },
  {
   "cell_type": "code",
   "execution_count": null,
   "id": "0e9651f8-758d-484f-ad4f-e4627f4f64f6",
   "metadata": {},
   "outputs": [],
   "source": [
    "total_fruits = 0\n",
    "\n",
    "for i in range(7):\n",
    "    f =  int(input(f\"enter basket-{i+1} fruites: \"))\n",
    "    total_fruits += f \n",
    "    print(f\"basket {i+1} has {f} fruits\")\n",
    "\n",
    "print(total_fruits)\n",
    "    "
   ]
  },
  {
   "cell_type": "code",
   "execution_count": null,
   "id": "ab8cb17e-8927-404f-adc3-3687458f8e51",
   "metadata": {},
   "outputs": [],
   "source": [
    "#break, continue"
   ]
  },
  {
   "cell_type": "markdown",
   "id": "a2bcbc27-35bf-42a8-b5b9-7666e4156171",
   "metadata": {},
   "source": [
    "## Nested Loops"
   ]
  },
  {
   "cell_type": "code",
   "execution_count": 24,
   "id": "b8fc069d-772a-4dad-a69e-8339d943ac10",
   "metadata": {},
   "outputs": [
    {
     "name": "stdout",
     "output_type": "stream",
     "text": [
      "*\n",
      "**\n",
      "***\n",
      "****\n",
      "*****\n"
     ]
    }
   ],
   "source": [
    "for i in range(1,6):\n",
    "    for j in range(i):\n",
    "        print(\"*\",end=\"\")\n",
    "    print(\"\")\n"
   ]
  },
  {
   "cell_type": "code",
   "execution_count": 30,
   "id": "3eade5ee-1f4a-45d8-a0bb-7bd1904a3caf",
   "metadata": {},
   "outputs": [
    {
     "name": "stdout",
     "output_type": "stream",
     "text": [
      "row: 1 seat 1\n",
      "row: 1 seat 2\n",
      "row: 1 seat 3\n",
      "row: 1 seat 4\n",
      "row: 2 seat 1\n",
      "row: 2 seat 2\n",
      "row: 2 seat 3\n",
      "row: 2 seat 4\n",
      "row: 3 seat 1\n",
      "row: 3 seat 2\n",
      "row: 3 seat 3\n",
      "row: 3 seat 4\n"
     ]
    }
   ],
   "source": [
    "row = 1\n",
    "while row<=3:\n",
    "    seat = 1  \n",
    "    while seat<=4:\n",
    "        print(f\"row: {row} seat {seat}\")\n",
    "        seat = seat+1\n",
    "    row = row+1"
   ]
  },
  {
   "cell_type": "code",
   "execution_count": null,
   "id": "fdb7f068-a8d3-4e53-80ab-9f57719de291",
   "metadata": {},
   "outputs": [],
   "source": [
    "for i in range(1,6):\n",
    "    for j in range(1,11):\n",
    "        print(f\"{i} * {j} = {i*j}\")"
   ]
  },
  {
   "cell_type": "markdown",
   "id": "4980a96f-6731-45db-80b7-a4c6bf3aba3e",
   "metadata": {},
   "source": [
    "## Fuctions"
   ]
  },
  {
   "cell_type": "code",
   "execution_count": 37,
   "id": "30c57be3-085a-473a-bbb4-d080fcf68acd",
   "metadata": {},
   "outputs": [
    {
     "name": "stdout",
     "output_type": "stream",
     "text": [
      "17\n"
     ]
    }
   ],
   "source": [
    "def sum_all(*ds):\n",
    "    return sum(ds)\n",
    "print(sum_all(2,4,5,6))"
   ]
  },
  {
   "cell_type": "markdown",
   "id": "125c1044-c874-40e1-9f62-29908a698b13",
   "metadata": {},
   "source": [
    "## Lists"
   ]
  },
  {
   "cell_type": "code",
   "execution_count": 51,
   "id": "346aaa42-dc00-46c3-8467-fe258b41fb55",
   "metadata": {},
   "outputs": [
    {
     "name": "stdout",
     "output_type": "stream",
     "text": [
      "[1, 2, 3, 4, 3, 's']\n"
     ]
    }
   ],
   "source": [
    "list1 = [1,2,3,4,3,'s']\n",
    "print(list1)"
   ]
  },
  {
   "cell_type": "code",
   "execution_count": 52,
   "id": "fa8a8064-17bd-4ad6-a3ff-495f4bd7fa00",
   "metadata": {},
   "outputs": [],
   "source": [
    "list2 = [1,2,3,4,5,'a']\n"
   ]
  },
  {
   "cell_type": "code",
   "execution_count": 53,
   "id": "eb63f332-a0f2-49c1-8700-065c9acd2b9e",
   "metadata": {},
   "outputs": [
    {
     "name": "stdout",
     "output_type": "stream",
     "text": [
      "[1, 2, 3, 4, 3, 's', 1, 2, 3, 4, 5, 'a']\n"
     ]
    }
   ],
   "source": [
    "list3 = list1 + list2\n",
    "print(list3)\n"
   ]
  },
  {
   "cell_type": "code",
   "execution_count": 54,
   "id": "29907238-4ea4-4c18-bb98-a9f02aee2675",
   "metadata": {},
   "outputs": [
    {
     "name": "stdout",
     "output_type": "stream",
     "text": [
      "[1, 2, 3, 4, 3, 's', 1, 2, 3, 4, 5, 'a']\n"
     ]
    }
   ],
   "source": [
    "list4 = list1.extend(list2)\n",
    "print(list3)"
   ]
  },
  {
   "cell_type": "markdown",
   "id": "f338907d-d4d2-4b31-8528-32664355467e",
   "metadata": {},
   "source": [
    "## Other Data Types"
   ]
  },
  {
   "cell_type": "markdown",
   "id": "68d2eeb4-e3bb-4dc2-a996-5dbc6f1a8f28",
   "metadata": {},
   "source": [
    "| Type      | Syntax                  | Ordered | Mutable | Duplicate |\n",
    "|-----------|--------------------------|---------|---------|-----------|\n",
    "| **List**  | `[1, 2, 3]`             | ✅      | ✅      | ✅        |\n",
    "| **Tuple** | `(1, 2, 3)`             | ✅      | ❌      | ✅        |\n",
    "| **Set**   | `{1, 2, 3}` or `set()`  | ❌      | ✅      | ❌        |\n",
    "| **Dict**  | `{\"a\": 1, \"b\": 2}`      | ✅      | ✅      | Keys: ❌, Values: ✅ |\n"
   ]
  },
  {
   "cell_type": "code",
   "execution_count": 56,
   "id": "13dbc8a6-5191-40d5-9c8a-f58186d8998c",
   "metadata": {},
   "outputs": [
    {
     "name": "stdout",
     "output_type": "stream",
     "text": [
      "{1, 2, 3, 4}\n"
     ]
    }
   ],
   "source": [
    "list1 = [1,2,3,4,4]\n",
    "st = set(list1)\n",
    "print(st)"
   ]
  },
  {
   "cell_type": "markdown",
   "id": "c1970e46-0923-49af-bb01-4aad72acb5fd",
   "metadata": {},
   "source": [
    "## set1 = {1,2,3,True} .... 1==True => dulicate"
   ]
  },
  {
   "cell_type": "code",
   "execution_count": null,
   "id": "5ae07ea7-3084-4f31-abc4-42c44effb43c",
   "metadata": {},
   "outputs": [],
   "source": []
  },
  {
   "cell_type": "code",
   "execution_count": null,
   "id": "da61d8a6-17cb-450d-bfb0-07b40b0d014e",
   "metadata": {},
   "outputs": [],
   "source": [
    "sett = {1,2,True,8}"
   ]
  },
  {
   "cell_type": "code",
   "execution_count": null,
   "id": "cc643630-5e2d-460e-9d56-deb09614cdcb",
   "metadata": {},
   "outputs": [],
   "source": [
    "print(sett)"
   ]
  },
  {
   "cell_type": "code",
   "execution_count": null,
   "id": "cebf247b-b05c-4303-9faa-74275ff3746a",
   "metadata": {},
   "outputs": [],
   "source": []
  }
 ],
 "metadata": {
  "kernelspec": {
   "display_name": "Python (venv)",
   "language": "python",
   "name": "venv"
  },
  "language_info": {
   "codemirror_mode": {
    "name": "ipython",
    "version": 3
   },
   "file_extension": ".py",
   "mimetype": "text/x-python",
   "name": "python",
   "nbconvert_exporter": "python",
   "pygments_lexer": "ipython3",
   "version": "3.13.3"
  }
 },
 "nbformat": 4,
 "nbformat_minor": 5
}
